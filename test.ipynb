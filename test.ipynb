{
    "metadata": {
        "kernelspec": {
            "name": "SQL",
            "display_name": "SQL",
            "language": "sql"
        },
        "language_info": {
            "name": "sql",
            "version": ""
        }
    },
    "nbformat_minor": 2,
    "nbformat": 4,
    "cells": [
        {
            "cell_type": "code",
            "source": [
                "   USE IGU_NEW\n",
                "\n",
                "select  cardname,cardcode from OCRD w \n",
                "WHERE w.cardtype='S'"
            ],
            "metadata": {
                "azdata_cell_guid": "2a7eca86-a79a-4aac-a5a1-202ada4ffd6c",
                "language": "sql",
                "tags": []
            },
            "outputs": [
                {
                    "output_type": "display_data",
                    "data": {
                        "text/html": "(559 rows affected)"
                    },
                    "metadata": {}
                },
                {
                    "output_type": "display_data",
                    "data": {
                        "text/html": "Total execution time: 00:00:00.119"
                    },
                    "metadata": {}
                },
                {
                    "output_type": "execute_result",
                    "metadata": {},
                    "execution_count": 3,
                    "data": {
                        "application/vnd.dataresource+json": {
                            "schema": {
                                "fields": [
                                    {
                                        "name": "cardname"
                                    },
                                    {
                                        "name": "cardcode"
                                    }
                                ]
                            },
                            "data": [
                                {
                                    "0": "*",
                                    "1": "VL0284"
                                },
                                {
                                    "0": "A & A CHICKEN SUPPLIER",
                                    "1": "VL0224"
                                },
                                {
                                    "0": "A C O N G",
                                    "1": "VL0001"
                                },
                                {
                                    "0": "AA COMPANY PTY LTD",
                                    "1": "VI0001"
                                },
                                {
                                    "0": "ABATTOIR SURYA JAYA, PT",
                                    "1": "VL0002"
                                },
                                {
                                    "0": "ADHI PANGAN SEMENTA. PT",
                                    "1": "VL0003"
                                },
                                {
                                    "0": "ADI UNISINDO JAYA, PT.",
                                    "1": "VL0253"
                                },
                                {
                                    "0": "ADI, BP",
                                    "1": "VL0167"
                                },
                                {
                                    "0": "ADINA MULTI WAHANA, PT.",
                                    "1": "VL0267"
                                },
                                {
                                    "0": "AFFCO NEW ZEALAND LTD.",
                                    "1": "VI0002"
                                },
                                {
                                    "0": "AGRI EXPORT INT'L LLC",
                                    "1": "VI0003"
                                },
                                {
                                    "0": "AGRO BOGA UTAMA, PT",
                                    "1": "VL0004"
                                },
                                {
                                    "0": "AGUNG MANDIRI SENTOSA,PT",
                                    "1": "VO0015"
                                },
                                {
                                    "0": "AGUNG MULIA CHEMINDO AMC, PT.",
                                    "1": "VL0264"
                                },
                                {
                                    "0": "AGUNG RAYA",
                                    "1": "VO0003"
                                },
                                {
                                    "0": "AIR MAS PERKASA",
                                    "1": "VO0029"
                                },
                                {
                                    "0": "ALAMBOGA INTERNUSA, PT",
                                    "1": "VL0005"
                                },
                                {
                                    "0": "ALBEL AGRO LESTARI, PT",
                                    "1": "VL0237"
                                },
                                {
                                    "0": "ALKALINDO ALAM ANUGRAH, PT",
                                    "1": "VL0161"
                                },
                                {
                                    "0": "ALLIANCE GROUP LIMITED",
                                    "1": "VI0169"
                                },
                                {
                                    "0": "ALTINDO MULIA, PT.",
                                    "1": "VL0258"
                                },
                                {
                                    "0": "ANDREWS MEAT INDUSTRIES",
                                    "1": "VI0004"
                                },
                                {
                                    "0": "Aneka Citra Refrindo, PT",
                                    "1": "VO0061"
                                },
                                {
                                    "0": "ANEKA SUMBER MAKMUR, CV.",
                                    "1": "VL0177"
                                },
                                {
                                    "0": "ANGGANA CATUR PRIMA, PT.",
                                    "1": "VL0154"
                                },
                                {
                                    "0": "ANGSA PUTIH KURNIA KHARISMA SWAN,PT",
                                    "1": "VO0042"
                                },
                                {
                                    "0": "ANTATIRTA KIRANA, PT.",
                                    "1": "VL0211"
                                },
                                {
                                    "0": "ANUGERAH PANGAN SENTOSA. PT",
                                    "1": "VL0006"
                                },
                                {
                                    "0": "ANUGRAH",
                                    "1": "VL0007"
                                },
                                {
                                    "0": "ANZ EXPORTS PTY LTD",
                                    "1": "VI0165"
                                },
                                {
                                    "0": "ANZCO FOODS LTD",
                                    "1": "VI0170"
                                },
                                {
                                    "0": "Arista Jaya Lestari, PT",
                                    "1": "VO0056"
                                },
                                {
                                    "0": "ARNOTTS, PT",
                                    "1": "VL0008"
                                },
                                {
                                    "0": "ARYZTA AUSTRALIA PTY LTD",
                                    "1": "VI0166"
                                },
                                {
                                    "0": "ASANDAS AND SONS PRIVATE LIMITED",
                                    "1": "VI0188"
                                },
                                {
                                    "0": "ASD INT'L MARKETING",
                                    "1": "VI0005"
                                },
                                {
                                    "0": "AUSFINE FOODS (AUD)",
                                    "1": "VI0116"
                                },
                                {
                                    "0": "AUSFINE FOODS (USD)",
                                    "1": "VI0125"
                                },
                                {
                                    "0": "AUSFINE FOODS INDONESIA, PT",
                                    "1": "VI0155"
                                },
                                {
                                    "0": "AUSTRALIAN FOOD CORPORATION (AFC)",
                                    "1": "VI0007"
                                },
                                {
                                    "0": "AUSTRALIAN MEAT GROUP PTY LTD",
                                    "1": "VI0131"
                                },
                                {
                                    "0": "AUSTRALIAN MEAT GROUP PTY LTD",
                                    "1": "VI0164"
                                },
                                {
                                    "0": "Auto Jaya Idetech, PT",
                                    "1": "VO0057"
                                },
                                {
                                    "0": "AVT McCORMIK INGREDIENTS PVT LTD",
                                    "1": "VI0192"
                                },
                                {
                                    "0": "AYANAA PUTRI PRATAMA, PT",
                                    "1": "VL0169"
                                },
                                {
                                    "0": "AZNAR",
                                    "1": "VI0152"
                                },
                                {
                                    "0": "B & G  EXPORT CORPORATION PTY LTD",
                                    "1": "VI0008"
                                },
                                {
                                    "0": "BALCONI S.PA. INDUSTRIA DOLCIARIA",
                                    "1": "VI0139"
                                },
                                {
                                    "0": "BALIKPAPAN KULINA UTAMA, PT.",
                                    "1": "VL0250"
                                },
                                {
                                    "0": "BALIKULINA UTAMA, PT",
                                    "1": "VL0009"
                                },
                                {
                                    "0": "BANDUNG KULINA UTAMA, PT",
                                    "1": "VL0010"
                                },
                                {
                                    "0": "BAPAK AFIF",
                                    "1": "VL0201"
                                },
                                {
                                    "0": "BAPAK EKO",
                                    "1": "VL0189"
                                },
                                {
                                    "0": "BAPAK WAHYU",
                                    "1": "VL0199"
                                },
                                {
                                    "0": "BELFOODS INDONESIA",
                                    "1": "VL0011"
                                },
                                {
                                    "0": "BEN FOODS (S) PTE LTD",
                                    "1": "VI0009"
                                },
                                {
                                    "0": "BERDIKARI UNITED LIVERSTOCK, PT",
                                    "1": "VL0012"
                                },
                                {
                                    "0": "BERKAH UNGGAS REZKI, PT.",
                                    "1": "VL0261"
                                },
                                {
                                    "0": "BERKAT AMADEUS SUKSES SENTOSA, PT.",
                                    "1": "VL0287"
                                },
                                {
                                    "0": "BILCA MARKIN JAYA MAKMUR, PT.",
                                    "1": "VL0257"
                                },
                                {
                                    "0": "BISCUITERIE DE L'ABBAYE SAS",
                                    "1": "VI0140"
                                },
                                {
                                    "0": "BJL FOODS PTY LTD",
                                    "1": "VI0010"
                                },
                                {
                                    "0": "BLUE MOON FOOD",
                                    "1": "VL0231"
                                },
                                {
                                    "0": "BOGA MAXIMA INDONESIA, PT.",
                                    "1": "VL0194"
                                },
                                {
                                    "0": "BOGA WISESA NUSANTARA, PT",
                                    "1": "VL0202"
                                },
                                {
                                    "0": "BP. AGUNG",
                                    "1": "VL0013"
                                },
                                {
                                    "0": "BP. AGUS",
                                    "1": "VL0014"
                                },
                                {
                                    "0": "BP. ALEX",
                                    "1": "VL0015"
                                },
                                {
                                    "0": "BP. BUDI",
                                    "1": "VL0016"
                                },
                                {
                                    "0": "Bp. DANI",
                                    "1": "VL0017"
                                },
                                {
                                    "0": "BP. DIKA",
                                    "1": "VL0018"
                                },
                                {
                                    "0": "BP. DODI",
                                    "1": "VL0019"
                                },
                                {
                                    "0": "BP. EDIE",
                                    "1": "VL0020"
                                },
                                {
                                    "0": "BP. EFFENDY",
                                    "1": "VL0153"
                                },
                                {
                                    "0": "BP. ERWIN",
                                    "1": "VL0021"
                                },
                                {
                                    "0": "BP. GUNAWAN",
                                    "1": "VL0022"
                                },
                                {
                                    "0": "BP. HANDI",
                                    "1": "VL0023"
                                },
                                {
                                    "0": "BP. IMAM",
                                    "1": "VL0024"
                                },
                                {
                                    "0": "BP. IWAN",
                                    "1": "VL0025"
                                },
                                {
                                    "0": "BP. IWAN",
                                    "1": "VL0026"
                                },
                                {
                                    "0": "Bp. KARYO",
                                    "1": "VL0027"
                                },
                                {
                                    "0": "BP. RICHARD",
                                    "1": "VL0028"
                                },
                                {
                                    "0": "Bp. SACHA DARWIN",
                                    "1": "VL0029"
                                },
                                {
                                    "0": "BP. SIMON",
                                    "1": "VL0030"
                                },
                                {
                                    "0": "Bp. Solihin",
                                    "1": "VL0031"
                                },
                                {
                                    "0": "BP. SUJIWO",
                                    "1": "VL0032"
                                },
                                {
                                    "0": "BP. SUSILO",
                                    "1": "VL0033"
                                },
                                {
                                    "0": "Bp. TOMMY",
                                    "1": "VL0034"
                                },
                                {
                                    "0": "Bp. TONY",
                                    "1": "VL0035"
                                },
                                {
                                    "0": "BP. UTOMO",
                                    "1": "VL0036"
                                },
                                {
                                    "0": "BP. YANTO",
                                    "1": "VL0037"
                                },
                                {
                                    "0": "Bp. YOHANES",
                                    "1": "VL0038"
                                },
                                {
                                    "0": "BP. YUDI",
                                    "1": "VL0039"
                                },
                                {
                                    "0": "BP. YULIANTO",
                                    "1": "VL0040"
                                },
                                {
                                    "0": "BPD FOOD, PT",
                                    "1": "VL0220"
                                },
                                {
                                    "0": "BPK RONALDO MANUPUTTY",
                                    "1": "VL0241"
                                },
                                {
                                    "0": "BPK. KEVIN KANTONO",
                                    "1": "VL0151"
                                },
                                {
                                    "0": "BULLS INDO PRATAMA, PT",
                                    "1": "VL0276"
                                },
                                {
                                    "0": "BULOG",
                                    "1": "VL0171"
                                },
                                {
                                    "0": "BUMI PANGAN INDONESIA, PT",
                                    "1": "VL0259"
                                },
                                {
                                    "0": "CAHAYA INTI PUTRA SEJAHTERA, PT",
                                    "1": "VL0187"
                                },
                                {
                                    "0": "CAHAYA KARYA INDAH. CV",
                                    "1": "VL0041"
                                },
                                {
                                    "0": "CAHAYA SURYA INDAH",
                                    "1": "VL0219"
                                },
                                {
                                    "0": "CAHAYA,TOKO ALUMUNIUM KACA",
                                    "1": "VO0060"
                                },
                                {
                                    "0": "CAKRA BAKTI SENTOSA. PT",
                                    "1": "VL0042"
                                },
                                {
                                    "0": "CALETA BAY MAR SPA",
                                    "1": "VI0180"
                                },
                                {
                                    "0": "CASH",
                                    "1": "VL0043"
                                },
                                {
                                    "0": "CASH",
                                    "1": "VO0030"
                                },
                                {
                                    "0": "CASH (S)",
                                    "1": "VL0044"
                                },
                                {
                                    "0": "Celcius Jaya, PT",
                                    "1": "VO0047"
                                },
                                {
                                    "0": "CENTRAL PERTIWI BAHARI, PT",
                                    "1": "VL0045"
                                },
                                {
                                    "0": "CENTRAL PROTEINAPRIMA TBK, PT",
                                    "1": "VL0046"
                                },
                                {
                                    "0": "CERES RESOURCES LTD",
                                    "1": "VI0011"
                                },
                                {
                                    "0": "CH HARMONY CO., LTD",
                                    "1": "VL0172"
                                },
                                {
                                    "0": "CH HARMONY CO., LTD.",
                                    "1": "VI0132"
                                },
                                {
                                    "0": "CHAROEN POKPHAND INDONESIA, PT",
                                    "1": "VL0047"
                                },
                                {
                                    "0": "CHEF ESSENTIAL . PT",
                                    "1": "VL0048"
                                },
                                {
                                    "0": "CHEKO SENTOSA, PT.",
                                    "1": "VL0263"
                                },
                                {
                                    "0": "CIOMAS ADISATWA MAGELANG (JAPFA), PT.",
                                    "1": "VL0293"
                                },
                                {
                                    "0": "CIOMAS ADISATWA, PT",
                                    "1": "VL0049"
                                },
                                {
                                    "0": "CITRA KARYA MANDIRI SUKSES, PT",
                                    "1": "VL0050"
                                },
                                {
                                    "0": "CLAREBOUT POTATOES NV",
                                    "1": "VI0179"
                                },
                                {
                                    "0": "COCOA ORIENT PTE LTD",
                                    "1": "VI0012"
                                },
                                {
                                    "0": "COMGROUP SUPPLIES PTY LTD",
                                    "1": "VI0114"
                                },
                                {
                                    "0": "COMPAGNIA MERCANTILE D'OLTREMARE s.r.l",
                                    "1": "VI0013"
                                },
                                {
                                    "0": "COMPASSPACIFIC",
                                    "1": "VI0014"
                                },
                                {
                                    "0": "CRAIG MOSTYN AND CO PTY LTD",
                                    "1": "VI0015"
                                },
                                {
                                    "0": "CREATIVE CULINARY, PT",
                                    "1": "VL0285"
                                },
                                {
                                    "0": "CRYPTOPIA COMPUTER",
                                    "1": "VO0011"
                                },
                                {
                                    "0": "CULLEY GROUP AUSTRALIA PTY LTD",
                                    "1": "VI0016"
                                },
                                {
                                    "0": "CUSTOMIZED DISTRIBUTION LLC ( CDI)",
                                    "1": "VI0187"
                                },
                                {
                                    "0": "CUSTOMIZED DISTRIBUTION, LLC",
                                    "1": "VI0193"
                                },
                                {
                                    "0": "CV ANEKA SUMBER MAKMUR",
                                    "1": "VI0043"
                                },
                                {
                                    "0": "CV ANEKA SUMBER MAKMUR",
                                    "1": "VI0051"
                                },
                                {
                                    "0": "CV ANEKA SUMBER MAKMUR",
                                    "1": "VI0090"
                                },
                                {
                                    "0": "CV BAJA SUKSES MANDIRI",
                                    "1": "VO0001"
                                },
                                {
                                    "0": "CV. ANEKA SUKSES MAKMUR",
                                    "1": "VL0290"
                                },
                                {
                                    "0": "CV. BAJA SUKSES MANDIRI",
                                    "1": "VO0008"
                                },
                                {
                                    "0": "CV. DS MANDIRI",
                                    "1": "VL0225"
                                },
                                {
                                    "0": "CV. KARYA MANDIRI BERSAMA",
                                    "1": "VL0140"
                                },
                                {
                                    "0": "CV. KIMASA",
                                    "1": "VL0051"
                                },
                                {
                                    "0": "CV. KRISNA BEEF",
                                    "1": "VL0141"
                                },
                                {
                                    "0": "CV. UDAYANA",
                                    "1": "VL0197"
                                },
                                {
                                    "0": "DAGSAP ENDURA EATORE. PT",
                                    "1": "VL0052"
                                },
                                {
                                    "0": "DAMACO FOODS PTE LTD",
                                    "1": "VI0017"
                                },
                                {
                                    "0": "DARBO AG",
                                    "1": "VI0018"
                                },
                                {
                                    "0": "DAUCY",
                                    "1": "VI0149"
                                },
                                {
                                    "0": "DAULAT & PANGAN, PT",
                                    "1": "VL0170"
                                },
                                {
                                    "0": "DAYA MOTOR DAYA ANUGRAH MANDIRI,PT",
                                    "1": "VO0019"
                                },
                                {
                                    "0": "DE CECCO",
                                    "1": "VI0019"
                                },
                                {
                                    "0": "DELIMA MANDIRI.CV",
                                    "1": "VO0023"
                                },
                                {
                                    "0": "Delta Baja Masa, PT",
                                    "1": "VO0038"
                                },
                                {
                                    "0": "DELTA MITRA PERKASA,PT",
                                    "1": "VO0022"
                                },
                                {
                                    "0": "DEWIKARTIKA INTI, PT.",
                                    "1": "VL0180"
                                },
                                {
                                    "0": "DMK DEUTSCHES MILCHKONTOR GmbH",
                                    "1": "VI0020"
                                },
                                {
                                    "0": "DUA PUTRA, PT",
                                    "1": "VL0053"
                                },
                                {
                                    "0": "DUNAMIS GLOBAL PTE LTD",
                                    "1": "VI0138"
                                },
                                {
                                    "0": "DUNNETT & JOHNSTON GROUP PTY LTD (AUD)",
                                    "1": "VI0177"
                                },
                                {
                                    "0": "DUNNETT & JOHNSTON GROUP PTY LTD (USD)",
                                    "1": "VI0021"
                                },
                                {
                                    "0": "Dwikar Robinson, PT",
                                    "1": "VO0041"
                                },
                                {
                                    "0": "DWIPA MEGAH LESTARI, PT",
                                    "1": "VL0278"
                                },
                                {
                                    "0": "E.C. THROSBY PTY LTD",
                                    "1": "VI0022"
                                },
                                {
                                    "0": "EAST WEST INT'L FOODS PTE LTD",
                                    "1": "VI0023"
                                },
                                {
                                    "0": "ECOLAB INDONESIA,PT",
                                    "1": "VO0017"
                                },
                                {
                                    "0": "EDI SUSANTO",
                                    "1": "VL0162"
                                },
                                {
                                    "0": "ELDERS INT'L AUSTRALIA  LTD",
                                    "1": "VI0024"
                                },
                                {
                                    "0": "EMMI INTERNATIONAL",
                                    "1": "VI0025"
                                },
                                {
                                    "0": "ERKEN MAKINA",
                                    "1": "VI0026"
                                },
                                {
                                    "0": "ESS FOOD A/S (USD)",
                                    "1": "VI0171"
                                },
                                {
                                    "0": "ESS-FOOD A/S",
                                    "1": "VI0148"
                                },
                                {
                                    "0": "ESTIKA TATA TIARA, PT",
                                    "1": "VL0054"
                                },
                                {
                                    "0": "EXPRAVET NASUBA, PT",
                                    "1": "VL0055"
                                },
                                {
                                    "0": "Fabtakom Jaya Mandiri,PT",
                                    "1": "VO0067"
                                },
                                {
                                    "0": "FAMILI MEAT SUPPLIER",
                                    "1": "VL0056"
                                },
                                {
                                    "0": "FARM FRITES INTERNATIONAL B.V.",
                                    "1": "VI0115"
                                },
                                {
                                    "0": "FARMERA FOODS, PT.",
                                    "1": "VL0184"
                                },
                                {
                                    "0": "FAYMAN INTERNATIONAL GROUP PTY LTD",
                                    "1": "VI0162"
                                },
                                {
                                    "0": "FAYMAN INTERNATIONAL GROUP PTY LTD (AUD)",
                                    "1": "VI0196"
                                },
                                {
                                    "0": "FIELDFRESH FOODS PRIVATE LTD",
                                    "1": "VI0027"
                                },
                                {
                                    "0": "FILLOMATIC GLOBAL INDUSTRIES, PT",
                                    "1": "VO0050"
                                },
                                {
                                    "0": "FINE FOOD INT'L CHG (VIKTOR)",
                                    "1": "VI0028"
                                },
                                {
                                    "0": "FONDLY JANTO",
                                    "1": "VL0057"
                                },
                                {
                                    "0": "FONTERRA LIMITED",
                                    "1": "VI0029"
                                },
                                {
                                    "0": "FRESH ON TIME SEAFOOD",
                                    "1": "VL0058"
                                },
                                {
                                    "0": "FROSTY BOY AUSTRALIA PTY LTD",
                                    "1": "VI0146"
                                },
                                {
                                    "0": "GAROFALO/F.J.TYTHERLEIGH",
                                    "1": "VI0030"
                                },
                                {
                                    "0": "GEOFOODS",
                                    "1": "VI0031"
                                },
                                {
                                    "0": "GITA PUTRA ABADI . PT",
                                    "1": "VL0059"
                                },
                                {
                                    "0": "GLORY FOOD. PT",
                                    "1": "VL0060"
                                },
                                {
                                    "0": "GOLD KIWI ASIA MARKETING PTE LTD",
                                    "1": "VL0061"
                                },
                                {
                                    "0": "GONUSA PRIMA DISTRIBUSI, PT",
                                    "1": "VL0247"
                                },
                                {
                                    "0": "GRAHATIKA SUKSES SELARAS, PT",
                                    "1": "VL0062"
                                },
                                {
                                    "0": "GREAT GIANT LIVESTOCK. PT",
                                    "1": "VL0063"
                                },
                                {
                                    "0": "GREENHAM GIPPSLAND PTY LTD",
                                    "1": "VI0154"
                                },
                                {
                                    "0": "GREENLEA PREMIER MEATS LTD",
                                    "1": "VI0032"
                                },
                                {
                                    "0": "GREENMOUNTAIN TRADING CO.PTY.LTD",
                                    "1": "VI0033"
                                },
                                {
                                    "0": "GUARDIAN HEALTH AND BEAUTY",
                                    "1": "VI0034"
                                },
                                {
                                    "0": "H E R O",
                                    "1": "VL0064"
                                },
                                {
                                    "0": "HAJAR ASWAD, CV.",
                                    "1": "VL0227"
                                },
                                {
                                    "0": "HALE",
                                    "1": "VL0065"
                                },
                                {
                                    "0": "Halle International",
                                    "1": "VI0035"
                                },
                                {
                                    "0": "HALLVARD LEROY AS (LEROY SEAFOODS AS)",
                                    "1": "VI0134"
                                },
                                {
                                    "0": "HARAPAN MOTOR SEJAHTERA,PT",
                                    "1": "VO0049"
                                },
                                {
                                    "0": "HARAPAN, UD",
                                    "1": "VL0066"
                                },
                                {
                                    "0": "HARTANIA JAYA, UD",
                                    "1": "VL0067"
                                },
                                {
                                    "0": "HARVEY INDUSTRIES GROUP PTY LTD",
                                    "1": "VI0036"
                                },
                                {
                                    "0": "HARVEY INDUSTRIES GROUP PTY LTD (AUD)",
                                    "1": "VI0122"
                                },
                                {
                                    "0": "HAYWILL HOLDINGS",
                                    "1": "VL0249"
                                },
                                {
                                    "0": "HAYWILL HOLDINGS (AUD)",
                                    "1": "VI0191"
                                },
                                {
                                    "0": "HAZIENDA LA RAMBLA",
                                    "1": "VI0037"
                                },
                                {
                                    "0": "HEALTHY CHOICE BELLAGIO",
                                    "1": "VL0068"
                                },
                                {
                                    "0": "HEIDY",
                                    "1": "VL0069"
                                },
                                {
                                    "0": "HEINZ  WATTIE'S",
                                    "1": "VI0038"
                                },
                                {
                                    "0": "HEINZ ABC INDONESIA, PT",
                                    "1": "VL0213"
                                },
                                {
                                    "0": "HENDRA. T . PD",
                                    "1": "VL0070"
                                },
                                {
                                    "0": "HERMAN LAUE PTE LTD",
                                    "1": "VI0039"
                                },
                                {
                                    "0": "HERO SCHWEIZ AG",
                                    "1": "VI0143"
                                },
                                {
                                    "0": "HERO SUPERMARKET TBK",
                                    "1": "VL0071"
                                },
                                {
                                    "0": "HIGHFORD MARKETING GROUP LTD",
                                    "1": "VI0040"
                                },
                                {
                                    "0": "HIJRAH GIZI HEWANI, PT",
                                    "1": "VL0072"
                                },
                                {
                                    "0": "HIWIN MESINRESTO INDONESIA",
                                    "1": "VL0164"
                                },
                                {
                                    "0": "HUNTER VALLEY QUALITY MEATS PTY LTD",
                                    "1": "VI0113"
                                },
                                {
                                    "0": "HWASUNG THERMO INDONESIA,PT",
                                    "1": "VO0024"
                                },
                                {
                                    "0": "IBU DIANA",
                                    "1": "VL0073"
                                },
                                {
                                    "0": "IBU DWI",
                                    "1": "VL0074"
                                },
                                {
                                    "0": "IBU DWI SISKA RAHAYU",
                                    "1": "VL0075"
                                },
                                {
                                    "0": "IBU ELIZ",
                                    "1": "VL0076"
                                },
                                {
                                    "0": "IBU MEISKE",
                                    "1": "VL0077"
                                },
                                {
                                    "0": "IBU NASRULLAH",
                                    "1": "VL0256"
                                },
                                {
                                    "0": "IBU RAHAYU",
                                    "1": "VL0078"
                                },
                                {
                                    "0": "IBU SHINTA DEWI FAKIEH",
                                    "1": "VL0198"
                                },
                                {
                                    "0": "ICHIYA INDONESIA",
                                    "1": "VI0041"
                                },
                                {
                                    "0": "IFFCO ITALIA S.R.L",
                                    "1": "VI0182"
                                },
                                {
                                    "0": "IHAKA SAKA NUSANTARA,PT",
                                    "1": "VO0021"
                                },
                                {
                                    "0": "IMT PROCESSING PTY LTD (IMTP)",
                                    "1": "VI0042"
                                },
                                {
                                    "0": "INDAH JAYA TOKO",
                                    "1": "VO0013"
                                },
                                {
                                    "0": "INDO ASIA NIAGA, PT",
                                    "1": "VL0079"
                                },
                                {
                                    "0": "INDO BUMI LESTARI, PT",
                                    "1": "VL0236"
                                },
                                {
                                    "0": "INDOBOGA JAYA MAKMUR, PT",
                                    "1": "VL0080"
                                },
                                {
                                    "0": "INDOGAL AGRO TRADING, PT",
                                    "1": "VL0238"
                                },
                                {
                                    "0": "INDOGUNA JOGJA",
                                    "1": "VL0081"
                                },
                                {
                                    "0": "INDOKULINA SARANA UTAMA, PT.",
                                    "1": "VL0192"
                                },
                                {
                                    "0": "INDOMAS JAYA, PT",
                                    "1": "VL0244"
                                },
                                {
                                    "0": "INDOSTAR SECURITY,PT",
                                    "1": "VO0044"
                                },
                                {
                                    "0": "INTEGRATED MEAT SOLUTIONS",
                                    "1": "VI0136"
                                },
                                {
                                    "0": "INTER AGRI GROUP PTY LTD",
                                    "1": "VI0044"
                                },
                                {
                                    "0": "INTERNATIONAL PACKAGING MANUFACTURING, PT.",
                                    "1": "VL0255"
                                },
                                {
                                    "0": "INTEROCEAN FOODS PTE LTD",
                                    "1": "VI0045"
                                },
                                {
                                    "0": "INTI DATA UTAMA,PT",
                                    "1": "VO0043"
                                },
                                {
                                    "0": "INTI LUMBUNG INDONESIA, PT",
                                    "1": "VL0222"
                                },
                                {
                                    "0": "INTI SOLUSI KOMPUTER",
                                    "1": "VO0028"
                                },
                                {
                                    "0": "INVENTIVE FOOD TECHNOLOGY (ZQ) LTD.",
                                    "1": "VI0172"
                                },
                                {
                                    "0": "INVESTASI NIAGA ANUGERAH, PT.",
                                    "1": "VL0294"
                                },
                                {
                                    "0": "JAPAN PACK INDONESIA, PT",
                                    "1": "VL0286"
                                },
                                {
                                    "0": "JAVA SEAFOOD, PT",
                                    "1": "VL0203"
                                },
                                {
                                    "0": "JAYA PERKASA INT'L, PT.",
                                    "1": "VL0158"
                                },
                                {
                                    "0": "JBS AUSTRALIA PTY LIMITED (AUD)",
                                    "1": "VI0126"
                                },
                                {
                                    "0": "JBS AUSTRALIA PTY LTD (NORTHERN)",
                                    "1": "VI0046"
                                },
                                {
                                    "0": "JBS AUSTRALIA PTY LTD (SOUTHERN)",
                                    "1": "VI0195"
                                },
                                {
                                    "0": "JICO AGUNG, PT.",
                                    "1": "VL0195"
                                },
                                {
                                    "0": "JICT",
                                    "1": "VO0002"
                                },
                                {
                                    "0": "JINU INTERNATIONAL CO.,LTD",
                                    "1": "VI0185"
                                },
                                {
                                    "0": "JOINHED NUSANTARA FOOD SUPPLY, PT.",
                                    "1": "VL0246"
                                },
                                {
                                    "0": "JONA PERDANA, PT",
                                    "1": "VL0239"
                                },
                                {
                                    "0": "KA IN  (TUNG LOK)",
                                    "1": "VI0047"
                                },
                                {
                                    "0": "KAGOME INC",
                                    "1": "VI0048"
                                },
                                {
                                    "0": "KANDARA SELERA RASA, PT.",
                                    "1": "VL0262"
                                },
                                {
                                    "0": "KANEMATSU TRADING INDONESIA, PT.",
                                    "1": "VL0207"
                                },
                                {
                                    "0": "KARYA NUSANTARA SERVIS, PT.",
                                    "1": "VL0288"
                                },
                                {
                                    "0": "KAWAN JAYA BERSAMA",
                                    "1": "VL0279"
                                },
                                {
                                    "0": "KEM CHICKS",
                                    "1": "VI0049"
                                },
                                {
                                    "0": "KERINPLASINDO SUKSES MAKMUR,PT",
                                    "1": "VO0014"
                                },
                                {
                                    "0": "KHARISMA CAHAYA ABADI, PT.",
                                    "1": "VL0273"
                                },
                                {
                                    "0": "KHARISMA KARYA KARTIKA, PT.",
                                    "1": "VL0181"
                                },
                                {
                                    "0": "KIAT ANANDA",
                                    "1": "VL0082"
                                },
                                {
                                    "0": "KIM RUSLI",
                                    "1": "VL0159"
                                },
                                {
                                    "0": "KINGSUN FOODS CO, LTD",
                                    "1": "VI0174"
                                },
                                {
                                    "0": "KOBE BOGA UTAMA, PT.",
                                    "1": "VL0155"
                                },
                                {
                                    "0": "KPC KILCOY PASTORAL COMPANY",
                                    "1": "VI0178"
                                },
                                {
                                    "0": "KPC KILCOY PASTORAL COMPANY - AUD",
                                    "1": "VI0181"
                                },
                                {
                                    "0": "Kreasi Bintang Stainless",
                                    "1": "VO0039"
                                },
                                {
                                    "0": "KREASI GALATAMA. PT",
                                    "1": "VL0160"
                                },
                                {
                                    "0": "KUHNE + HEITZ",
                                    "1": "VI0050"
                                },
                                {
                                    "0": "LAM KEE FISHERIES PTE LTD",
                                    "1": "VI0157"
                                },
                                {
                                    "0": "LAMB WESTON INC",
                                    "1": "VI0052"
                                },
                                {
                                    "0": "LAMB WESTON nl",
                                    "1": "VI0053"
                                },
                                {
                                    "0": "LAMB WESTON NL (EUR)",
                                    "1": "VI0197"
                                },
                                {
                                    "0": "LANGREY INTERNATIONAL PTY LTD",
                                    "1": "VI0054"
                                },
                                {
                                    "0": "L'ANNE KANE INT'L",
                                    "1": "VI0055"
                                },
                                {
                                    "0": "LASALLEFOOD INDONESIA",
                                    "1": "VL0217"
                                },
                                {
                                    "0": "LAUTAN LUAS TBK, PT.",
                                    "1": "VL0251"
                                },
                                {
                                    "0": "LEONG HIN FOODS PTE LTD",
                                    "1": "VI0056"
                                },
                                {
                                    "0": "LEPRINO FOODS DAIRY PRODUCTS COMPANY",
                                    "1": "VI0121"
                                },
                                {
                                    "0": "Libra Emas Permata, PT",
                                    "1": "VO0046"
                                },
                                {
                                    "0": "LOCAL",
                                    "1": "VL0083"
                                },
                                {
                                    "0": "LOGECO ASIA PTE LTD",
                                    "1": "VI0057"
                                },
                                {
                                    "0": "LUAX INTERNATIONAL, LLC",
                                    "1": "VI0123"
                                },
                                {
                                    "0": "LUCKY FROZEN SDN.BHD.",
                                    "1": "VI0058"
                                },
                                {
                                    "0": "LUMBUNG ARTHA INDONESIA, PT",
                                    "1": "VL0232"
                                },
                                {
                                    "0": "LUTOSA SA",
                                    "1": "VI0153"
                                },
                                {
                                    "0": "MACROSENTRA NIAGABOGA, PT.",
                                    "1": "VL0193"
                                },
                                {
                                    "0": "MADURASA UNGGULAN NUSANTARA, PT",
                                    "1": "VL0223"
                                },
                                {
                                    "0": "MAKASSAR KULINA UTAMA, PT",
                                    "1": "VG0001"
                                },
                                {
                                    "0": "MARINEHARVEST SINGAPORE",
                                    "1": "VI0059"
                                },
                                {
                                    "0": "MARKAINDO SELARAS, PT",
                                    "1": "VL0269"
                                },
                                {
                                    "0": "MASTER MAKMUR LESTARI, PT.",
                                    "1": "VL0146"
                                },
                                {
                                    "0": "MATHIAS MEAT AUST.PTY LTD",
                                    "1": "VI0060"
                                },
                                {
                                    "0": "MATHIAS MEAT NZ. LTD",
                                    "1": "VI0061"
                                },
                                {
                                    "0": "MAXFOS PRIMA, PT",
                                    "1": "VL0274"
                                },
                                {
                                    "0": "MAYURA",
                                    "1": "VI0130"
                                },
                                {
                                    "0": "MCDELICA FOOD INDONESIA, PT.",
                                    "1": "VL0266"
                                },
                                {
                                    "0": "MEAT SHOP",
                                    "1": "VI0062"
                                },
                                {
                                    "0": "MEIDI-YA SINGAPORE CO (PTE) LTD",
                                    "1": "VI0063"
                                },
                                {
                                    "0": "MENTARI LAJU JAYA USAHA, PT.",
                                    "1": "VL0281"
                                },
                                {
                                    "0": "MENTARI SINAR MITRA ALAM, PT.",
                                    "1": "VL0282"
                                },
                                {
                                    "0": "META JAYA. PT",
                                    "1": "VL0084"
                                },
                                {
                                    "0": "METAFOODS,  LLC",
                                    "1": "VI0064"
                                },
                                {
                                    "0": "MIDAMAR CORPORATION",
                                    "1": "VI0065"
                                },
                                {
                                    "0": "MIDFIELD COMMODITIES PTY LTD",
                                    "1": "VI0147"
                                },
                                {
                                    "0": "MIDFIELD MEAT INT'L  PTY LTD",
                                    "1": "VI0066"
                                },
                                {
                                    "0": "MINERVA FOODS ASIA PTY LTD",
                                    "1": "VI0145"
                                },
                                {
                                    "0": "MIRAE CO., LTD",
                                    "1": "VI0128"
                                },
                                {
                                    "0": "MIRASCO",
                                    "1": "VI0194"
                                },
                                {
                                    "0": "MIRE INDO UTAMA, PT.",
                                    "1": "VL0248"
                                },
                                {
                                    "0": "MISC BP BUDI",
                                    "1": "VL0291"
                                },
                                {
                                    "0": "MISC BP RIDWAN",
                                    "1": "VL0292"
                                },
                                {
                                    "0": "MORNING STAR FISHERIES",
                                    "1": "VI0067"
                                },
                                {
                                    "0": "MOSS,CV",
                                    "1": "VO0052"
                                },
                                {
                                    "0": "MOWI SINGAPORE PTE LTD",
                                    "1": "VI0198"
                                },
                                {
                                    "0": "MS. PRABOWO",
                                    "1": "VL0085"
                                },
                                {
                                    "0": "MULTI ELEXINDO INDAH,PT",
                                    "1": "VO0053"
                                },
                                {
                                    "0": "Multi Flashindo Karisma",
                                    "1": "VO0063"
                                },
                                {
                                    "0": "MULTI KHARISMA SOLUSINDO",
                                    "1": "VO0032"
                                },
                                {
                                    "0": "MULTIRASA NUSANTARA",
                                    "1": "VL0086"
                                },
                                {
                                    "0": "MULWARRA EXPORT PTY LTD",
                                    "1": "VI0068"
                                },
                                {
                                    "0": "MULWARRA EXPORT PTY LTD (AUD)",
                                    "1": "VI0124"
                                },
                                {
                                    "0": "MUTIARA SEAFOOD, CV",
                                    "1": "VL0087"
                                },
                                {
                                    "0": "NADIRA PUTRI PRATAMA, CV.",
                                    "1": "VL0230"
                                },
                                {
                                    "0": "NAR TRADING",
                                    "1": "VI0183"
                                },
                                {
                                    "0": "NATURALLY AUSTRALIAN MEAT & GAME PTY LTD",
                                    "1": "VI0129"
                                },
                                {
                                    "0": "NEW HOPE POULTRY BUSINESS INDONESIA, PT.",
                                    "1": "VL0233"
                                },
                                {
                                    "0": "NH FOODS AUSTRALIA PTY LTD",
                                    "1": "VI0069"
                                },
                                {
                                    "0": "NH FOODS SINGAPORE PTE. LTD.",
                                    "1": "VI0137"
                                },
                                {
                                    "0": "NIAGA SARANA ABADI. PT",
                                    "1": "VL0088"
                                },
                                {
                                    "0": "NIPPON MEAT PACKERS AUSTRALIA",
                                    "1": "VI0070"
                                },
                                {
                                    "0": "NIPPON MEAT PACKERS SINGAPORE Pte Ltd",
                                    "1": "VI0071"
                                },
                                {
                                    "0": "NISHIAWA BEEF LTD.",
                                    "1": "VI0186"
                                },
                                {
                                    "0": "NORDLAKS OPPDRETT AS",
                                    "1": "VI0119"
                                },
                                {
                                    "0": "NORDMILCH  AG",
                                    "1": "VI0072"
                                },
                                {
                                    "0": "NPC SANSENG PTE. LTD.",
                                    "1": "VI0156"
                                },
                                {
                                    "0": "OBE ORGANIC",
                                    "1": "VI0175"
                                },
                                {
                                    "0": "OCEAN SUPREME AS",
                                    "1": "VI0073"
                                },
                                {
                                    "0": "OLEIFICIO SALVADORI S.R.L",
                                    "1": "VI0161"
                                },
                                {
                                    "0": "OPTIMUM PRINTER & PART",
                                    "1": "VO0027"
                                },
                                {
                                    "0": "PAGODASAKTI PRIMA REFRIGERASI, PT",
                                    "1": "VO0048"
                                },
                                {
                                    "0": "PALEMBANG KULINA UTAMA, PT",
                                    "1": "VL0289"
                                },
                                {
                                    "0": "PALMETTO FOOD SERVICE, LLC",
                                    "1": "VI0074"
                                },
                                {
                                    "0": "PANCA PUTRA SOLUSINDO ,PT",
                                    "1": "VO0065"
                                },
                                {
                                    "0": "PANCAGUNA",
                                    "1": "VL0089"
                                },
                                {
                                    "0": "PANDAWA EXPRESS",
                                    "1": "VL0090"
                                },
                                {
                                    "0": "PANGAN LESTARI, PT.",
                                    "1": "VL0091"
                                },
                                {
                                    "0": "PANGAN MULIA SEJAHTERA (PMS), PT",
                                    "1": "VL0280"
                                },
                                {
                                    "0": "PARKER INTERNATIONAL",
                                    "1": "VI0075"
                                },
                                {
                                    "0": "PASAR TANI INDOGUNA, CV",
                                    "1": "VL0260"
                                },
                                {
                                    "0": "PD. ALWAN JUNIOR BEEF",
                                    "1": "VL0205"
                                },
                                {
                                    "0": "PENDAWA CIPTA SAKTI,PT",
                                    "1": "VO0058"
                                },
                                {
                                    "0": "PERMATA CEMERLANG ABADI, PT.",
                                    "1": "VL0156"
                                },
                                {
                                    "0": "PERUSAHAAN PERDAGANGAN INDONESIA (PERSERO), PT",
                                    "1": "VL0218"
                                },
                                {
                                    "0": "PESBASA, S.A.",
                                    "1": "VI0141"
                                },
                                {
                                    "0": "PESCAVIAR, S.L.",
                                    "1": "VI0135"
                                },
                                {
                                    "0": "PILAR NIAGA MAS. PT",
                                    "1": "VL0092"
                                },
                                {
                                    "0": "PK Elang Perkasa",
                                    "1": "VO0045"
                                },
                                {
                                    "0": "PLAZA AUTO CIPTA, PT",
                                    "1": "VO0066"
                                },
                                {
                                    "0": "PREMIER EXPORTS PTY LTD",
                                    "1": "VI0076"
                                },
                                {
                                    "0": "PRIMA ADI MAKMUR, PT",
                                    "1": "VL0214"
                                },
                                {
                                    "0": "Prima Boga",
                                    "1": "VL0093"
                                },
                                {
                                    "0": "PRIMA COMPUTINDO",
                                    "1": "VO0010"
                                },
                                {
                                    "0": "PRIMA SENTOSA, PT.",
                                    "1": "VL0186"
                                },
                                {
                                    "0": "PRIMA TOP BOGA",
                                    "1": "VL0094"
                                },
                                {
                                    "0": "PS CILACAP PANGAN SEJAHTERA",
                                    "1": "VL0277"
                                },
                                {
                                    "0": "PT BERDIKARI (PERSERO) DIV PETERNAKAN",
                                    "1": "VL0243"
                                },
                                {
                                    "0": "PT DIGI INDONESIA",
                                    "1": "VL0275"
                                },
                                {
                                    "0": "PT ETERNA MAS CIPTA JAYAINDO",
                                    "1": "VO0035"
                                },
                                {
                                    "0": "PT GRAHA SEGARA",
                                    "1": "VO0004"
                                },
                                {
                                    "0": "PT INDOMOBIL PRIMA NIAGA",
                                    "1": "VO0033"
                                },
                                {
                                    "0": "PT IPC TERMINAL PETIKEMAS",
                                    "1": "VO0005"
                                },
                                {
                                    "0": "PT JAYA LOGAM EMAS",
                                    "1": "VO0037"
                                },
                                {
                                    "0": "PT MITRA CIPTA HARDI ELEKTRINDO",
                                    "1": "VO0034"
                                },
                                {
                                    "0": "PT MULTI TERMINAL INDONESIA",
                                    "1": "VO0006"
                                },
                                {
                                    "0": "PT NEW PRIOK CONTAINER TERMINAL ONE",
                                    "1": "VO0007"
                                },
                                {
                                    "0": "PT Pelangi Internasional",
                                    "1": "VO0025"
                                },
                                {
                                    "0": "PT PRATAMA KOMPUTINDO",
                                    "1": "VO0036"
                                },
                                {
                                    "0": "PT RIDAR ESINDO",
                                    "1": "VO0031"
                                },
                                {
                                    "0": "PT.  KARUNIA SEGAR UTAMA",
                                    "1": "VL0095"
                                },
                                {
                                    "0": "PT. AKUR PRATAMA / TOSERBA YOGYA",
                                    "1": "VL0215"
                                },
                                {
                                    "0": "PT. AMAN ABADI",
                                    "1": "VL0096"
                                },
                                {
                                    "0": "PT. ANEKA SARANA NIAGA",
                                    "1": "VL0097"
                                },
                                {
                                    "0": "PT. ANEKA SARANA NIAGA",
                                    "1": "VL0098"
                                },
                                {
                                    "0": "PT. ANZINDO GRATIA INT'L",
                                    "1": "VL0099"
                                },
                                {
                                    "0": "PT. ARTHA KARYA UTAMA / PT. KIKKOMAN INDONESIA",
                                    "1": "VL0173"
                                },
                                {
                                    "0": "PT. BERKAT CAHAYA SAKTI",
                                    "1": "VL0100"
                                },
                                {
                                    "0": "PT. BERKAT MITRA ABADI",
                                    "1": "VL0143"
                                },
                                {
                                    "0": "PT. BERKAT PRIMA MANDIRI",
                                    "1": "VL0142"
                                },
                                {
                                    "0": "PT. BUMI MAESTROAYU",
                                    "1": "VL0101"
                                },
                                {
                                    "0": "PT. BUMI MENARA INTERNUSA",
                                    "1": "VL0102"
                                },
                                {
                                    "0": "PT. CATUR CARAKA SEMPURNA",
                                    "1": "VI0077"
                                },
                                {
                                    "0": "PT. CITRA DIMENSI ARTHALI",
                                    "1": "VL0165"
                                },
                                {
                                    "0": "PT. CREDO PERKASA GROUP",
                                    "1": "VL0152"
                                },
                                {
                                    "0": "PT. DUA USAHA MANDIRI",
                                    "1": "VL0188"
                                },
                                {
                                    "0": "PT. DUABIRU NUSANTARA",
                                    "1": "VL0204"
                                },
                                {
                                    "0": "PT. FAJAR JAYA ANUGERAH",
                                    "1": "VL0145"
                                },
                                {
                                    "0": "PT. FITRAFOOD INTERNATIONAL",
                                    "1": "VL0185"
                                },
                                {
                                    "0": "PT. FITRAOOD INTERNATIONALF",
                                    "1": "VL0166"
                                },
                                {
                                    "0": "PT. FOODINDO DWIVESTAMAS",
                                    "1": "VL0103"
                                },
                                {
                                    "0": "PT. GADING FOOD (BOSCO",
                                    "1": "VL0104"
                                },
                                {
                                    "0": "PT. GADING FOOD (BOSCO)",
                                    "1": "VL0105"
                                },
                                {
                                    "0": "PT. GEOSADI MAPROTEC",
                                    "1": "VO0009"
                                },
                                {
                                    "0": "PT. INDO MANDIRI SEJAHTERA",
                                    "1": "VL0106"
                                },
                                {
                                    "0": "PT. INDOMAGURO TUNAS UNGGUL",
                                    "1": "VL0107"
                                },
                                {
                                    "0": "PT. KEWPIE  INDONESIA",
                                    "1": "VL0108"
                                },
                                {
                                    "0": "PT. KING FOOD",
                                    "1": "VL0148"
                                },
                                {
                                    "0": "PT. MASTER COOK",
                                    "1": "VI0078"
                                },
                                {
                                    "0": "PT. MASUYA GRAHA TRIKENCANA",
                                    "1": "VL0109"
                                },
                                {
                                    "0": "PT. MITRA KILAU PERKASA",
                                    "1": "VL0221"
                                },
                                {
                                    "0": "PT. MULTI SARANA PAKANINDO",
                                    "1": "VL0157"
                                },
                                {
                                    "0": "PT. NUANSA GUNA UTAMA",
                                    "1": "VL0110"
                                },
                                {
                                    "0": "PT. NUSANTARA KATULISTIWA ABADI",
                                    "1": "VL0111"
                                },
                                {
                                    "0": "PT. PANEN LESTARI INTERNUSA (SOGO)",
                                    "1": "VL0112"
                                },
                                {
                                    "0": "PT. PUSEMA RAYA UTAMA",
                                    "1": "VL0150"
                                },
                                {
                                    "0": "PT. REZEKI INTI ARTHA",
                                    "1": "VL0163"
                                },
                                {
                                    "0": "PT. SASTRA NARA UTAMA",
                                    "1": "VL0191"
                                },
                                {
                                    "0": "PT. SINAR DAGING PERDANA",
                                    "1": "VL0144"
                                },
                                {
                                    "0": "PT. SINAR TERANG UTAMA",
                                    "1": "VL0113"
                                },
                                {
                                    "0": "PT. SUKSES INTERNATIONAL ANUGERAH PRATAMA",
                                    "1": "VL0229"
                                },
                                {
                                    "0": "PT. WAHANA CIPTA NIAGA",
                                    "1": "VL0114"
                                },
                                {
                                    "0": "PT. WINDUBLAMBANGAN SEJATI",
                                    "1": "VL0149"
                                },
                                {
                                    "0": "PT. ZENSHO INDONESIA",
                                    "1": "VL0283"
                                },
                                {
                                    "0": "PURINUSA EKA PERSADA",
                                    "1": "VL0268"
                                },
                                {
                                    "0": "PUTRA PERKASA BEEF, CV.",
                                    "1": "VL0200"
                                },
                                {
                                    "0": "PUTRA PRIMA MANDIRI. CV",
                                    "1": "VL0115"
                                },
                                {
                                    "0": "Q System",
                                    "1": "VO0055"
                                },
                                {
                                    "0": "Q-EXPORT INT'L LTD",
                                    "1": "VI0079"
                                },
                                {
                                    "0": "QINGDAO HARTHN-RITUNE CORP LTD",
                                    "1": "VI0080"
                                },
                                {
                                    "0": "RALPHS MEAT COMPANY PTY LTD",
                                    "1": "VI0081"
                                },
                                {
                                    "0": "RANCH MARKET",
                                    "1": "VL0116"
                                },
                                {
                                    "0": "RAON CORPORATION CO.,LTD.",
                                    "1": "VI0158"
                                },
                                {
                                    "0": "RENTOKIL INDONESIA,PT",
                                    "1": "VO0016"
                                },
                                {
                                    "0": "RICH INDONESIA, PT",
                                    "1": "VL0234"
                                },
                                {
                                    "0": "RICH PRODUCTS (SUZHOU) CO, LTD",
                                    "1": "VI0082"
                                },
                                {
                                    "0": "RICH PRODUCTS INDONESIA, PT.",
                                    "1": "VL0182"
                                },
                                {
                                    "0": "RIFKY BERKAH, UD",
                                    "1": "VL0235"
                                },
                                {
                                    "0": "RITA JAYA BEEF",
                                    "1": "VL0117"
                                },
                                {
                                    "0": "RIZKY JAYA ABADI. CV",
                                    "1": "VL0118"
                                },
                                {
                                    "0": "ROBERTO GALIANNI",
                                    "1": "VI0083"
                                },
                                {
                                    "0": "ROHAN TRADING COMPANY",
                                    "1": "VI0084"
                                },
                                {
                                    "0": "ROOTS AND BRANCHES",
                                    "1": "VI0085"
                                },
                                {
                                    "0": "Royal Sutan Agung, PT",
                                    "1": "VO0059"
                                },
                                {
                                    "0": "RUANGAN PENDINGIN INDONESIA . PT",
                                    "1": "VL0119"
                                },
                                {
                                    "0": "Rumah Mahardika Karsyah, PT",
                                    "1": "VO0040"
                                },
                                {
                                    "0": "S.M.AGRI & FISHERIES. CO.,LTD",
                                    "1": "VI0160"
                                },
                                {
                                    "0": "SABAT SAMUDRA",
                                    "1": "VL0212"
                                },
                                {
                                    "0": "SALMON GRAFIKA",
                                    "1": "VO0012"
                                },
                                {
                                    "0": "SALMONES BLUMAR MAGALLANES SpA",
                                    "1": "VI0184"
                                },
                                {
                                    "0": "SALSA",
                                    "1": "VL0120"
                                },
                                {
                                    "0": "SAMEX AUSTRALIAN MEAT CO PTY LTD",
                                    "1": "VI0086"
                                },
                                {
                                    "0": "SAMLAY DHARMA MANDIRI, PT",
                                    "1": "VL0179"
                                },
                                {
                                    "0": "SAN MIGUEL PURE FOODS",
                                    "1": "VL0121"
                                },
                                {
                                    "0": "SANGER AUSTRALLIA PTY LTD (USD)",
                                    "1": "VI0087"
                                },
                                {
                                    "0": "SANKYO SAHABAT INDONESIA, PT",
                                    "1": "VO0051"
                                },
                                {
                                    "0": "SANTOSO MEAT ( BP. ACONG )",
                                    "1": "VL0122"
                                },
                                {
                                    "0": "SARANA INDOGUNA LESTARI. PT",
                                    "1": "VL0123"
                                },
                                {
                                    "0": "SARANA INTI PANGAN, PT.",
                                    "1": "VL0176"
                                },
                                {
                                    "0": "SARANAKULINA INTISEJAHTERA, PT",
                                    "1": "VL0124"
                                },
                                {
                                    "0": "SARI BURGER INDONESIA, PT",
                                    "1": "VL0242"
                                },
                                {
                                    "0": "SARI MURNI, PT",
                                    "1": "VL0125"
                                },
                                {
                                    "0": "SARITAMA FOOD PROCESSING. PT",
                                    "1": "VL0126"
                                },
                                {
                                    "0": "SCHEIDEGGER TRADING CO.INC.",
                                    "1": "VI0088"
                                },
                                {
                                    "0": "SCHNITS FROZEN FOODS INTERNATIONAL",
                                    "1": "VL0270"
                                },
                                {
                                    "0": "SEA EAGLE GROUP AS",
                                    "1": "VI0089"
                                },
                                {
                                    "0": "SEABORN AS",
                                    "1": "VI0142"
                                },
                                {
                                    "0": "SEGAR BARU ABADI, PT.",
                                    "1": "VL0178"
                                },
                                {
                                    "0": "Sejahtera Sumberbaru Trada",
                                    "1": "VO0062"
                                },
                                {
                                    "0": "SEKAR BUMI TBK, PT",
                                    "1": "VL0206"
                                },
                                {
                                    "0": "SEMARANG KULINA UTAMA",
                                    "1": "VL0272"
                                },
                                {
                                    "0": "SEMESTA JAYA SENTOSA, PT",
                                    "1": "VL0127"
                                },
                                {
                                    "0": "SENTRA PROTEIN PRIMA. CV",
                                    "1": "VL0128"
                                },
                                {
                                    "0": "SETIAJAYA KEMASINDO MADYA, PT",
                                    "1": "VL0265"
                                },
                                {
                                    "0": "SHARON BAKERY/ PT. MULTI STAR RUKUN ABADI",
                                    "1": "VL0183"
                                },
                                {
                                    "0": "SIE MEE LING",
                                    "1": "VL0168"
                                },
                                {
                                    "0": "SNORRE FOOD PTE. LTD",
                                    "1": "VI0190"
                                },
                                {
                                    "0": "Snow Village Indonesia, PT",
                                    "1": "VO0054"
                                },
                                {
                                    "0": "SONNAMERA PTE LTD",
                                    "1": "VI0091"
                                },
                                {
                                    "0": "SPEEDY PRINTING",
                                    "1": "VL0254"
                                },
                                {
                                    "0": "SPEEDY PRINTING.CV",
                                    "1": "VO0020"
                                },
                                {
                                    "0": "STANBROKE  BEEF PTY LTD",
                                    "1": "VI0092"
                                },
                                {
                                    "0": "STELLA FOODS AUSTRALIA PTY LTD",
                                    "1": "VI0144"
                                },
                                {
                                    "0": "STOCKYARD BEEF PTY LTD",
                                    "1": "VI0176"
                                },
                                {
                                    "0": "SUBUR SARANA INDAH, PT",
                                    "1": "VL0129"
                                },
                                {
                                    "0": "SUKSES GRAHATIKA. PT",
                                    "1": "VL0130"
                                },
                                {
                                    "0": "SUKSES MAKMUR, CV.",
                                    "1": "VL0245"
                                },
                                {
                                    "0": "SUMBER BIRU LAUT, UD",
                                    "1": "VL0208"
                                },
                                {
                                    "0": "SUMBER GIZI UTAMA, PT",
                                    "1": "VL0131"
                                },
                                {
                                    "0": "SUMBER REZEKI INTERNASIONAL",
                                    "1": "VL0271"
                                },
                                {
                                    "0": "SUMBER TIRTA HAKIKI, PT.",
                                    "1": "VL0216"
                                },
                                {
                                    "0": "SUMBERPRIMA ANUGRAH ABADI. PT",
                                    "1": "VL0132"
                                },
                                {
                                    "0": "SUPER LABEL",
                                    "1": "VO0018"
                                },
                                {
                                    "0": "SUPERVALUE INTERNATIONAL",
                                    "1": "VI0093"
                                },
                                {
                                    "0": "SURE GOOD FOODS LTD",
                                    "1": "VI0173"
                                },
                                {
                                    "0": "SURI NUSANTARA JAYA, PT",
                                    "1": "VL0174"
                                },
                                {
                                    "0": "SURYA CEMERLANG ABADI. CV",
                                    "1": "VL0133"
                                },
                                {
                                    "0": "SURYA SUKSES MANDIRI, PT",
                                    "1": "VL0252"
                                },
                                {
                                    "0": "SWIFT & COMPANY US",
                                    "1": "VI0094"
                                },
                                {
                                    "0": "SWIFT AND COMPANY TRADE GROUP",
                                    "1": "VI0095"
                                },
                                {
                                    "0": "SWIFT AND COMPANY TRADE GROUP",
                                    "1": "VI0151"
                                },
                                {
                                    "0": "T & T GOURMET CUISINE PTE LTD",
                                    "1": "VI0096"
                                },
                                {
                                    "0": "T AND R PASTORAL PTY",
                                    "1": "VI0097"
                                },
                                {
                                    "0": "TASTY BITE EATABLES LTD",
                                    "1": "VI0167"
                                },
                                {
                                    "0": "TAT HUI FOODS PTE LTD",
                                    "1": "VI0118"
                                },
                                {
                                    "0": "TAYLOR PRESTON LTD",
                                    "1": "VI0098"
                                },
                                {
                                    "0": "TEYS AUSTRALIA",
                                    "1": "VI0099"
                                },
                                {
                                    "0": "THE 1872 CLIPPER TEA CO PTE LTD",
                                    "1": "VI0100"
                                },
                                {
                                    "0": "THE FOODHALL BELLEZZA",
                                    "1": "VL0175"
                                },
                                {
                                    "0": "THE FOODHALL GOURMET PI",
                                    "1": "VL0134"
                                },
                                {
                                    "0": "THOMAS FOODS INT'L",
                                    "1": "VI0101"
                                },
                                {
                                    "0": "THONG SIEK",
                                    "1": "VI0102"
                                },
                                {
                                    "0": "TOBA SURIMI INDUSTRIES, PT",
                                    "1": "VL0135"
                                },
                                {
                                    "0": "TOMEX DANMARK A/S",
                                    "1": "VI0103"
                                },
                                {
                                    "0": "TPK KOJA",
                                    "1": "VO0026"
                                },
                                {
                                    "0": "TRIANTAMA INDO PRATAMA. PT",
                                    "1": "VL0136"
                                },
                                {
                                    "0": "TRIE PUTRA MANDIRI, CV",
                                    "1": "VL0240"
                                },
                                {
                                    "0": "TRIMURNI PANGAN PRIMA, PT",
                                    "1": "VL0147"
                                },
                                {
                                    "0": "TRITUNGGAL JAYA, CV",
                                    "1": "VL0196"
                                },
                                {
                                    "0": "TRP COMMODITIES PTY LTD",
                                    "1": "VI0104"
                                },
                                {
                                    "0": "TWIN PEAKS JAPAN CO.,LTD.",
                                    "1": "VI0159"
                                },
                                {
                                    "0": "TYSON FRESH MEATS, INC",
                                    "1": "VI0105"
                                },
                                {
                                    "0": "UD JAYA ABADI",
                                    "1": "VL0137"
                                },
                                {
                                    "0": "UD. SUMBER BIRU LAUT",
                                    "1": "VL0209"
                                },
                                {
                                    "0": "UD. SUMBER BIRU LAUT",
                                    "1": "VL0210"
                                },
                                {
                                    "0": "USAHA CITRA BAHARI, PT",
                                    "1": "VL0138"
                                },
                                {
                                    "0": "VATAMA FOODINDO MAKMUR, PT.",
                                    "1": "VL0226"
                                },
                                {
                                    "0": "VIYON CO LTD",
                                    "1": "VI0189"
                                },
                                {
                                    "0": "W.A. MEAT EXPORT PTY.LTD (AUD)",
                                    "1": "VI0127"
                                },
                                {
                                    "0": "W.A. MEAT EXPORTS  Pty Ltd",
                                    "1": "VI0106"
                                },
                                {
                                    "0": "WAMMCO INTERNATIONAL",
                                    "1": "VI0107"
                                },
                                {
                                    "0": "WARMOLL FOODS PTY LTD (AUD)",
                                    "1": "VI0168"
                                },
                                {
                                    "0": "WARMOLL FOODS PTY LTD (JACK'S CREEK)",
                                    "1": "VI0006"
                                },
                                {
                                    "0": "WARUNG BEGOK INDONESIA, PT",
                                    "1": "VL0228"
                                },
                                {
                                    "0": "WARUNG TEKKO",
                                    "1": "VL0139"
                                },
                                {
                                    "0": "WEST COAST PLAZA",
                                    "1": "VI0108"
                                },
                                {
                                    "0": "WESTMEATS  (EXPORT) PTY LTD",
                                    "1": "VI0109"
                                },
                                {
                                    "0": "WHITE CLOUD SOUTH EAST ASIA PTE LTD",
                                    "1": "VI0110"
                                },
                                {
                                    "0": "WHOLESOME HARVEST PTE LTD",
                                    "1": "VI0111"
                                },
                                {
                                    "0": "WOODWARD FOODS AUSTRALIA PTY. LTD.",
                                    "1": "VI0163"
                                },
                                {
                                    "0": "WUHAN ZHONGMIN BEE FARM CO LTD",
                                    "1": "VI0117"
                                },
                                {
                                    "0": "XIAMEN JOOEVER IMPORT AND EXPORT CO., LTD",
                                    "1": "VI0150"
                                },
                                {
                                    "0": "Yanto Electric Panel",
                                    "1": "VO0064"
                                },
                                {
                                    "0": "YOUNG POONG CO., LTD.",
                                    "1": "VI0133"
                                },
                                {
                                    "0": "YU FISH PRIVATE LTD -AUD",
                                    "1": "VI0120"
                                },
                                {
                                    "0": "YU FISH PRIVATE LTD-USD",
                                    "1": "VI0112"
                                }
                            ]
                        },
                        "text/html": [
                            "<table>",
                            "<tr><th>cardname</th><th>cardcode</th></tr>",
                            "<tr><td>*</td><td>VL0284</td></tr>",
                            "<tr><td>A &amp; A CHICKEN SUPPLIER</td><td>VL0224</td></tr>",
                            "<tr><td>A C O N G</td><td>VL0001</td></tr>",
                            "<tr><td>AA COMPANY PTY LTD</td><td>VI0001</td></tr>",
                            "<tr><td>ABATTOIR SURYA JAYA, PT</td><td>VL0002</td></tr>",
                            "<tr><td>ADHI PANGAN SEMENTA. PT</td><td>VL0003</td></tr>",
                            "<tr><td>ADI UNISINDO JAYA, PT.</td><td>VL0253</td></tr>",
                            "<tr><td>ADI, BP</td><td>VL0167</td></tr>",
                            "<tr><td>ADINA MULTI WAHANA, PT.</td><td>VL0267</td></tr>",
                            "<tr><td>AFFCO NEW ZEALAND LTD.</td><td>VI0002</td></tr>",
                            "<tr><td>AGRI EXPORT INT'L LLC</td><td>VI0003</td></tr>",
                            "<tr><td>AGRO BOGA UTAMA, PT</td><td>VL0004</td></tr>",
                            "<tr><td>AGUNG MANDIRI SENTOSA,PT</td><td>VO0015</td></tr>",
                            "<tr><td>AGUNG MULIA CHEMINDO AMC, PT.</td><td>VL0264</td></tr>",
                            "<tr><td>AGUNG RAYA</td><td>VO0003</td></tr>",
                            "<tr><td>AIR MAS PERKASA</td><td>VO0029</td></tr>",
                            "<tr><td>ALAMBOGA INTERNUSA, PT</td><td>VL0005</td></tr>",
                            "<tr><td>ALBEL AGRO LESTARI, PT</td><td>VL0237</td></tr>",
                            "<tr><td>ALKALINDO ALAM ANUGRAH, PT</td><td>VL0161</td></tr>",
                            "<tr><td>ALLIANCE GROUP LIMITED</td><td>VI0169</td></tr>",
                            "<tr><td>ALTINDO MULIA, PT.</td><td>VL0258</td></tr>",
                            "<tr><td>ANDREWS MEAT INDUSTRIES</td><td>VI0004</td></tr>",
                            "<tr><td>Aneka Citra Refrindo, PT</td><td>VO0061</td></tr>",
                            "<tr><td>ANEKA SUMBER MAKMUR, CV.</td><td>VL0177</td></tr>",
                            "<tr><td>ANGGANA CATUR PRIMA, PT.</td><td>VL0154</td></tr>",
                            "<tr><td>ANGSA PUTIH KURNIA KHARISMA SWAN,PT</td><td>VO0042</td></tr>",
                            "<tr><td>ANTATIRTA KIRANA, PT.</td><td>VL0211</td></tr>",
                            "<tr><td>ANUGERAH PANGAN SENTOSA. PT</td><td>VL0006</td></tr>",
                            "<tr><td>ANUGRAH</td><td>VL0007</td></tr>",
                            "<tr><td>ANZ EXPORTS PTY LTD</td><td>VI0165</td></tr>",
                            "<tr><td>ANZCO FOODS LTD</td><td>VI0170</td></tr>",
                            "<tr><td>Arista Jaya Lestari, PT</td><td>VO0056</td></tr>",
                            "<tr><td>ARNOTTS, PT</td><td>VL0008</td></tr>",
                            "<tr><td>ARYZTA AUSTRALIA PTY LTD</td><td>VI0166</td></tr>",
                            "<tr><td>ASANDAS AND SONS PRIVATE LIMITED</td><td>VI0188</td></tr>",
                            "<tr><td>ASD INT'L MARKETING</td><td>VI0005</td></tr>",
                            "<tr><td>AUSFINE FOODS (AUD)</td><td>VI0116</td></tr>",
                            "<tr><td>AUSFINE FOODS (USD)</td><td>VI0125</td></tr>",
                            "<tr><td>AUSFINE FOODS INDONESIA, PT</td><td>VI0155</td></tr>",
                            "<tr><td>AUSTRALIAN FOOD CORPORATION (AFC)</td><td>VI0007</td></tr>",
                            "<tr><td>AUSTRALIAN MEAT GROUP PTY LTD</td><td>VI0131</td></tr>",
                            "<tr><td>AUSTRALIAN MEAT GROUP PTY LTD</td><td>VI0164</td></tr>",
                            "<tr><td>Auto Jaya Idetech, PT</td><td>VO0057</td></tr>",
                            "<tr><td>AVT McCORMIK INGREDIENTS PVT LTD</td><td>VI0192</td></tr>",
                            "<tr><td>AYANAA PUTRI PRATAMA, PT</td><td>VL0169</td></tr>",
                            "<tr><td>AZNAR</td><td>VI0152</td></tr>",
                            "<tr><td>B &amp; G  EXPORT CORPORATION PTY LTD</td><td>VI0008</td></tr>",
                            "<tr><td>BALCONI S.PA. INDUSTRIA DOLCIARIA</td><td>VI0139</td></tr>",
                            "<tr><td>BALIKPAPAN KULINA UTAMA, PT.</td><td>VL0250</td></tr>",
                            "<tr><td>BALIKULINA UTAMA, PT</td><td>VL0009</td></tr>",
                            "<tr><td>BANDUNG KULINA UTAMA, PT</td><td>VL0010</td></tr>",
                            "<tr><td>BAPAK AFIF</td><td>VL0201</td></tr>",
                            "<tr><td>BAPAK EKO</td><td>VL0189</td></tr>",
                            "<tr><td>BAPAK WAHYU</td><td>VL0199</td></tr>",
                            "<tr><td>BELFOODS INDONESIA</td><td>VL0011</td></tr>",
                            "<tr><td>BEN FOODS (S) PTE LTD</td><td>VI0009</td></tr>",
                            "<tr><td>BERDIKARI UNITED LIVERSTOCK, PT</td><td>VL0012</td></tr>",
                            "<tr><td>BERKAH UNGGAS REZKI, PT.</td><td>VL0261</td></tr>",
                            "<tr><td>BERKAT AMADEUS SUKSES SENTOSA, PT.</td><td>VL0287</td></tr>",
                            "<tr><td>BILCA MARKIN JAYA MAKMUR, PT.</td><td>VL0257</td></tr>",
                            "<tr><td>BISCUITERIE DE L'ABBAYE SAS</td><td>VI0140</td></tr>",
                            "<tr><td>BJL FOODS PTY LTD</td><td>VI0010</td></tr>",
                            "<tr><td>BLUE MOON FOOD</td><td>VL0231</td></tr>",
                            "<tr><td>BOGA MAXIMA INDONESIA, PT.</td><td>VL0194</td></tr>",
                            "<tr><td>BOGA WISESA NUSANTARA, PT</td><td>VL0202</td></tr>",
                            "<tr><td>BP. AGUNG</td><td>VL0013</td></tr>",
                            "<tr><td>BP. AGUS</td><td>VL0014</td></tr>",
                            "<tr><td>BP. ALEX</td><td>VL0015</td></tr>",
                            "<tr><td>BP. BUDI</td><td>VL0016</td></tr>",
                            "<tr><td>Bp. DANI</td><td>VL0017</td></tr>",
                            "<tr><td>BP. DIKA</td><td>VL0018</td></tr>",
                            "<tr><td>BP. DODI</td><td>VL0019</td></tr>",
                            "<tr><td>BP. EDIE</td><td>VL0020</td></tr>",
                            "<tr><td>BP. EFFENDY</td><td>VL0153</td></tr>",
                            "<tr><td>BP. ERWIN</td><td>VL0021</td></tr>",
                            "<tr><td>BP. GUNAWAN</td><td>VL0022</td></tr>",
                            "<tr><td>BP. HANDI</td><td>VL0023</td></tr>",
                            "<tr><td>BP. IMAM</td><td>VL0024</td></tr>",
                            "<tr><td>BP. IWAN</td><td>VL0025</td></tr>",
                            "<tr><td>BP. IWAN</td><td>VL0026</td></tr>",
                            "<tr><td>Bp. KARYO</td><td>VL0027</td></tr>",
                            "<tr><td>BP. RICHARD</td><td>VL0028</td></tr>",
                            "<tr><td>Bp. SACHA DARWIN</td><td>VL0029</td></tr>",
                            "<tr><td>BP. SIMON</td><td>VL0030</td></tr>",
                            "<tr><td>Bp. Solihin</td><td>VL0031</td></tr>",
                            "<tr><td>BP. SUJIWO</td><td>VL0032</td></tr>",
                            "<tr><td>BP. SUSILO</td><td>VL0033</td></tr>",
                            "<tr><td>Bp. TOMMY</td><td>VL0034</td></tr>",
                            "<tr><td>Bp. TONY</td><td>VL0035</td></tr>",
                            "<tr><td>BP. UTOMO</td><td>VL0036</td></tr>",
                            "<tr><td>BP. YANTO</td><td>VL0037</td></tr>",
                            "<tr><td>Bp. YOHANES</td><td>VL0038</td></tr>",
                            "<tr><td>BP. YUDI</td><td>VL0039</td></tr>",
                            "<tr><td>BP. YULIANTO</td><td>VL0040</td></tr>",
                            "<tr><td>BPD FOOD, PT</td><td>VL0220</td></tr>",
                            "<tr><td>BPK RONALDO MANUPUTTY</td><td>VL0241</td></tr>",
                            "<tr><td>BPK. KEVIN KANTONO</td><td>VL0151</td></tr>",
                            "<tr><td>BULLS INDO PRATAMA, PT</td><td>VL0276</td></tr>",
                            "<tr><td>BULOG</td><td>VL0171</td></tr>",
                            "<tr><td>BUMI PANGAN INDONESIA, PT</td><td>VL0259</td></tr>",
                            "<tr><td>CAHAYA INTI PUTRA SEJAHTERA, PT</td><td>VL0187</td></tr>",
                            "<tr><td>CAHAYA KARYA INDAH. CV</td><td>VL0041</td></tr>",
                            "<tr><td>CAHAYA SURYA INDAH</td><td>VL0219</td></tr>",
                            "<tr><td>CAHAYA,TOKO ALUMUNIUM KACA</td><td>VO0060</td></tr>",
                            "<tr><td>CAKRA BAKTI SENTOSA. PT</td><td>VL0042</td></tr>",
                            "<tr><td>CALETA BAY MAR SPA</td><td>VI0180</td></tr>",
                            "<tr><td>CASH</td><td>VL0043</td></tr>",
                            "<tr><td>CASH</td><td>VO0030</td></tr>",
                            "<tr><td>CASH (S)</td><td>VL0044</td></tr>",
                            "<tr><td>Celcius Jaya, PT</td><td>VO0047</td></tr>",
                            "<tr><td>CENTRAL PERTIWI BAHARI, PT</td><td>VL0045</td></tr>",
                            "<tr><td>CENTRAL PROTEINAPRIMA TBK, PT</td><td>VL0046</td></tr>",
                            "<tr><td>CERES RESOURCES LTD</td><td>VI0011</td></tr>",
                            "<tr><td>CH HARMONY CO., LTD</td><td>VL0172</td></tr>",
                            "<tr><td>CH HARMONY CO., LTD.</td><td>VI0132</td></tr>",
                            "<tr><td>CHAROEN POKPHAND INDONESIA, PT</td><td>VL0047</td></tr>",
                            "<tr><td>CHEF ESSENTIAL . PT</td><td>VL0048</td></tr>",
                            "<tr><td>CHEKO SENTOSA, PT.</td><td>VL0263</td></tr>",
                            "<tr><td>CIOMAS ADISATWA MAGELANG (JAPFA), PT.</td><td>VL0293</td></tr>",
                            "<tr><td>CIOMAS ADISATWA, PT</td><td>VL0049</td></tr>",
                            "<tr><td>CITRA KARYA MANDIRI SUKSES, PT</td><td>VL0050</td></tr>",
                            "<tr><td>CLAREBOUT POTATOES NV</td><td>VI0179</td></tr>",
                            "<tr><td>COCOA ORIENT PTE LTD</td><td>VI0012</td></tr>",
                            "<tr><td>COMGROUP SUPPLIES PTY LTD</td><td>VI0114</td></tr>",
                            "<tr><td>COMPAGNIA MERCANTILE D'OLTREMARE s.r.l</td><td>VI0013</td></tr>",
                            "<tr><td>COMPASSPACIFIC</td><td>VI0014</td></tr>",
                            "<tr><td>CRAIG MOSTYN AND CO PTY LTD</td><td>VI0015</td></tr>",
                            "<tr><td>CREATIVE CULINARY, PT</td><td>VL0285</td></tr>",
                            "<tr><td>CRYPTOPIA COMPUTER</td><td>VO0011</td></tr>",
                            "<tr><td>CULLEY GROUP AUSTRALIA PTY LTD</td><td>VI0016</td></tr>",
                            "<tr><td>CUSTOMIZED DISTRIBUTION LLC ( CDI)</td><td>VI0187</td></tr>",
                            "<tr><td>CUSTOMIZED DISTRIBUTION, LLC</td><td>VI0193</td></tr>",
                            "<tr><td>CV ANEKA SUMBER MAKMUR</td><td>VI0043</td></tr>",
                            "<tr><td>CV ANEKA SUMBER MAKMUR</td><td>VI0051</td></tr>",
                            "<tr><td>CV ANEKA SUMBER MAKMUR</td><td>VI0090</td></tr>",
                            "<tr><td>CV BAJA SUKSES MANDIRI</td><td>VO0001</td></tr>",
                            "<tr><td>CV. ANEKA SUKSES MAKMUR</td><td>VL0290</td></tr>",
                            "<tr><td>CV. BAJA SUKSES MANDIRI</td><td>VO0008</td></tr>",
                            "<tr><td>CV. DS MANDIRI</td><td>VL0225</td></tr>",
                            "<tr><td>CV. KARYA MANDIRI BERSAMA</td><td>VL0140</td></tr>",
                            "<tr><td>CV. KIMASA</td><td>VL0051</td></tr>",
                            "<tr><td>CV. KRISNA BEEF</td><td>VL0141</td></tr>",
                            "<tr><td>CV. UDAYANA</td><td>VL0197</td></tr>",
                            "<tr><td>DAGSAP ENDURA EATORE. PT</td><td>VL0052</td></tr>",
                            "<tr><td>DAMACO FOODS PTE LTD</td><td>VI0017</td></tr>",
                            "<tr><td>DARBO AG</td><td>VI0018</td></tr>",
                            "<tr><td>DAUCY</td><td>VI0149</td></tr>",
                            "<tr><td>DAULAT &amp; PANGAN, PT</td><td>VL0170</td></tr>",
                            "<tr><td>DAYA MOTOR DAYA ANUGRAH MANDIRI,PT</td><td>VO0019</td></tr>",
                            "<tr><td>DE CECCO</td><td>VI0019</td></tr>",
                            "<tr><td>DELIMA MANDIRI.CV</td><td>VO0023</td></tr>",
                            "<tr><td>Delta Baja Masa, PT</td><td>VO0038</td></tr>",
                            "<tr><td>DELTA MITRA PERKASA,PT</td><td>VO0022</td></tr>",
                            "<tr><td>DEWIKARTIKA INTI, PT.</td><td>VL0180</td></tr>",
                            "<tr><td>DMK DEUTSCHES MILCHKONTOR GmbH</td><td>VI0020</td></tr>",
                            "<tr><td>DUA PUTRA, PT</td><td>VL0053</td></tr>",
                            "<tr><td>DUNAMIS GLOBAL PTE LTD</td><td>VI0138</td></tr>",
                            "<tr><td>DUNNETT &amp; JOHNSTON GROUP PTY LTD (AUD)</td><td>VI0177</td></tr>",
                            "<tr><td>DUNNETT &amp; JOHNSTON GROUP PTY LTD (USD)</td><td>VI0021</td></tr>",
                            "<tr><td>Dwikar Robinson, PT</td><td>VO0041</td></tr>",
                            "<tr><td>DWIPA MEGAH LESTARI, PT</td><td>VL0278</td></tr>",
                            "<tr><td>E.C. THROSBY PTY LTD</td><td>VI0022</td></tr>",
                            "<tr><td>EAST WEST INT'L FOODS PTE LTD</td><td>VI0023</td></tr>",
                            "<tr><td>ECOLAB INDONESIA,PT</td><td>VO0017</td></tr>",
                            "<tr><td>EDI SUSANTO</td><td>VL0162</td></tr>",
                            "<tr><td>ELDERS INT'L AUSTRALIA  LTD</td><td>VI0024</td></tr>",
                            "<tr><td>EMMI INTERNATIONAL</td><td>VI0025</td></tr>",
                            "<tr><td>ERKEN MAKINA</td><td>VI0026</td></tr>",
                            "<tr><td>ESS FOOD A/S (USD)</td><td>VI0171</td></tr>",
                            "<tr><td>ESS-FOOD A/S</td><td>VI0148</td></tr>",
                            "<tr><td>ESTIKA TATA TIARA, PT</td><td>VL0054</td></tr>",
                            "<tr><td>EXPRAVET NASUBA, PT</td><td>VL0055</td></tr>",
                            "<tr><td>Fabtakom Jaya Mandiri,PT</td><td>VO0067</td></tr>",
                            "<tr><td>FAMILI MEAT SUPPLIER</td><td>VL0056</td></tr>",
                            "<tr><td>FARM FRITES INTERNATIONAL B.V.</td><td>VI0115</td></tr>",
                            "<tr><td>FARMERA FOODS, PT.</td><td>VL0184</td></tr>",
                            "<tr><td>FAYMAN INTERNATIONAL GROUP PTY LTD</td><td>VI0162</td></tr>",
                            "<tr><td>FAYMAN INTERNATIONAL GROUP PTY LTD (AUD)</td><td>VI0196</td></tr>",
                            "<tr><td>FIELDFRESH FOODS PRIVATE LTD</td><td>VI0027</td></tr>",
                            "<tr><td>FILLOMATIC GLOBAL INDUSTRIES, PT</td><td>VO0050</td></tr>",
                            "<tr><td>FINE FOOD INT'L CHG (VIKTOR)</td><td>VI0028</td></tr>",
                            "<tr><td>FONDLY JANTO</td><td>VL0057</td></tr>",
                            "<tr><td>FONTERRA LIMITED</td><td>VI0029</td></tr>",
                            "<tr><td>FRESH ON TIME SEAFOOD</td><td>VL0058</td></tr>",
                            "<tr><td>FROSTY BOY AUSTRALIA PTY LTD</td><td>VI0146</td></tr>",
                            "<tr><td>GAROFALO/F.J.TYTHERLEIGH</td><td>VI0030</td></tr>",
                            "<tr><td>GEOFOODS</td><td>VI0031</td></tr>",
                            "<tr><td>GITA PUTRA ABADI . PT</td><td>VL0059</td></tr>",
                            "<tr><td>GLORY FOOD. PT</td><td>VL0060</td></tr>",
                            "<tr><td>GOLD KIWI ASIA MARKETING PTE LTD</td><td>VL0061</td></tr>",
                            "<tr><td>GONUSA PRIMA DISTRIBUSI, PT</td><td>VL0247</td></tr>",
                            "<tr><td>GRAHATIKA SUKSES SELARAS, PT</td><td>VL0062</td></tr>",
                            "<tr><td>GREAT GIANT LIVESTOCK. PT</td><td>VL0063</td></tr>",
                            "<tr><td>GREENHAM GIPPSLAND PTY LTD</td><td>VI0154</td></tr>",
                            "<tr><td>GREENLEA PREMIER MEATS LTD</td><td>VI0032</td></tr>",
                            "<tr><td>GREENMOUNTAIN TRADING CO.PTY.LTD</td><td>VI0033</td></tr>",
                            "<tr><td>GUARDIAN HEALTH AND BEAUTY</td><td>VI0034</td></tr>",
                            "<tr><td>H E R O</td><td>VL0064</td></tr>",
                            "<tr><td>HAJAR ASWAD, CV.</td><td>VL0227</td></tr>",
                            "<tr><td>HALE</td><td>VL0065</td></tr>",
                            "<tr><td>Halle International</td><td>VI0035</td></tr>",
                            "<tr><td>HALLVARD LEROY AS (LEROY SEAFOODS AS)</td><td>VI0134</td></tr>",
                            "<tr><td>HARAPAN MOTOR SEJAHTERA,PT</td><td>VO0049</td></tr>",
                            "<tr><td>HARAPAN, UD</td><td>VL0066</td></tr>",
                            "<tr><td>HARTANIA JAYA, UD</td><td>VL0067</td></tr>",
                            "<tr><td>HARVEY INDUSTRIES GROUP PTY LTD</td><td>VI0036</td></tr>",
                            "<tr><td>HARVEY INDUSTRIES GROUP PTY LTD (AUD)</td><td>VI0122</td></tr>",
                            "<tr><td>HAYWILL HOLDINGS</td><td>VL0249</td></tr>",
                            "<tr><td>HAYWILL HOLDINGS (AUD)</td><td>VI0191</td></tr>",
                            "<tr><td>HAZIENDA LA RAMBLA</td><td>VI0037</td></tr>",
                            "<tr><td>HEALTHY CHOICE BELLAGIO</td><td>VL0068</td></tr>",
                            "<tr><td>HEIDY</td><td>VL0069</td></tr>",
                            "<tr><td>HEINZ  WATTIE'S</td><td>VI0038</td></tr>",
                            "<tr><td>HEINZ ABC INDONESIA, PT</td><td>VL0213</td></tr>",
                            "<tr><td>HENDRA. T . PD</td><td>VL0070</td></tr>",
                            "<tr><td>HERMAN LAUE PTE LTD</td><td>VI0039</td></tr>",
                            "<tr><td>HERO SCHWEIZ AG</td><td>VI0143</td></tr>",
                            "<tr><td>HERO SUPERMARKET TBK</td><td>VL0071</td></tr>",
                            "<tr><td>HIGHFORD MARKETING GROUP LTD</td><td>VI0040</td></tr>",
                            "<tr><td>HIJRAH GIZI HEWANI, PT</td><td>VL0072</td></tr>",
                            "<tr><td>HIWIN MESINRESTO INDONESIA</td><td>VL0164</td></tr>",
                            "<tr><td>HUNTER VALLEY QUALITY MEATS PTY LTD</td><td>VI0113</td></tr>",
                            "<tr><td>HWASUNG THERMO INDONESIA,PT</td><td>VO0024</td></tr>",
                            "<tr><td>IBU DIANA</td><td>VL0073</td></tr>",
                            "<tr><td>IBU DWI</td><td>VL0074</td></tr>",
                            "<tr><td>IBU DWI SISKA RAHAYU</td><td>VL0075</td></tr>",
                            "<tr><td>IBU ELIZ</td><td>VL0076</td></tr>",
                            "<tr><td>IBU MEISKE</td><td>VL0077</td></tr>",
                            "<tr><td>IBU NASRULLAH</td><td>VL0256</td></tr>",
                            "<tr><td>IBU RAHAYU</td><td>VL0078</td></tr>",
                            "<tr><td>IBU SHINTA DEWI FAKIEH</td><td>VL0198</td></tr>",
                            "<tr><td>ICHIYA INDONESIA</td><td>VI0041</td></tr>",
                            "<tr><td>IFFCO ITALIA S.R.L</td><td>VI0182</td></tr>",
                            "<tr><td>IHAKA SAKA NUSANTARA,PT</td><td>VO0021</td></tr>",
                            "<tr><td>IMT PROCESSING PTY LTD (IMTP)</td><td>VI0042</td></tr>",
                            "<tr><td>INDAH JAYA TOKO</td><td>VO0013</td></tr>",
                            "<tr><td>INDO ASIA NIAGA, PT</td><td>VL0079</td></tr>",
                            "<tr><td>INDO BUMI LESTARI, PT</td><td>VL0236</td></tr>",
                            "<tr><td>INDOBOGA JAYA MAKMUR, PT</td><td>VL0080</td></tr>",
                            "<tr><td>INDOGAL AGRO TRADING, PT</td><td>VL0238</td></tr>",
                            "<tr><td>INDOGUNA JOGJA</td><td>VL0081</td></tr>",
                            "<tr><td>INDOKULINA SARANA UTAMA, PT.</td><td>VL0192</td></tr>",
                            "<tr><td>INDOMAS JAYA, PT</td><td>VL0244</td></tr>",
                            "<tr><td>INDOSTAR SECURITY,PT</td><td>VO0044</td></tr>",
                            "<tr><td>INTEGRATED MEAT SOLUTIONS</td><td>VI0136</td></tr>",
                            "<tr><td>INTER AGRI GROUP PTY LTD</td><td>VI0044</td></tr>",
                            "<tr><td>INTERNATIONAL PACKAGING MANUFACTURING, PT.</td><td>VL0255</td></tr>",
                            "<tr><td>INTEROCEAN FOODS PTE LTD</td><td>VI0045</td></tr>",
                            "<tr><td>INTI DATA UTAMA,PT</td><td>VO0043</td></tr>",
                            "<tr><td>INTI LUMBUNG INDONESIA, PT</td><td>VL0222</td></tr>",
                            "<tr><td>INTI SOLUSI KOMPUTER</td><td>VO0028</td></tr>",
                            "<tr><td>INVENTIVE FOOD TECHNOLOGY (ZQ) LTD.</td><td>VI0172</td></tr>",
                            "<tr><td>INVESTASI NIAGA ANUGERAH, PT.</td><td>VL0294</td></tr>",
                            "<tr><td>JAPAN PACK INDONESIA, PT</td><td>VL0286</td></tr>",
                            "<tr><td>JAVA SEAFOOD, PT</td><td>VL0203</td></tr>",
                            "<tr><td>JAYA PERKASA INT'L, PT.</td><td>VL0158</td></tr>",
                            "<tr><td>JBS AUSTRALIA PTY LIMITED (AUD)</td><td>VI0126</td></tr>",
                            "<tr><td>JBS AUSTRALIA PTY LTD (NORTHERN)</td><td>VI0046</td></tr>",
                            "<tr><td>JBS AUSTRALIA PTY LTD (SOUTHERN)</td><td>VI0195</td></tr>",
                            "<tr><td>JICO AGUNG, PT.</td><td>VL0195</td></tr>",
                            "<tr><td>JICT</td><td>VO0002</td></tr>",
                            "<tr><td>JINU INTERNATIONAL CO.,LTD</td><td>VI0185</td></tr>",
                            "<tr><td>JOINHED NUSANTARA FOOD SUPPLY, PT.</td><td>VL0246</td></tr>",
                            "<tr><td>JONA PERDANA, PT</td><td>VL0239</td></tr>",
                            "<tr><td>KA IN  (TUNG LOK)</td><td>VI0047</td></tr>",
                            "<tr><td>KAGOME INC</td><td>VI0048</td></tr>",
                            "<tr><td>KANDARA SELERA RASA, PT.</td><td>VL0262</td></tr>",
                            "<tr><td>KANEMATSU TRADING INDONESIA, PT.</td><td>VL0207</td></tr>",
                            "<tr><td>KARYA NUSANTARA SERVIS, PT.</td><td>VL0288</td></tr>",
                            "<tr><td>KAWAN JAYA BERSAMA</td><td>VL0279</td></tr>",
                            "<tr><td>KEM CHICKS</td><td>VI0049</td></tr>",
                            "<tr><td>KERINPLASINDO SUKSES MAKMUR,PT</td><td>VO0014</td></tr>",
                            "<tr><td>KHARISMA CAHAYA ABADI, PT.</td><td>VL0273</td></tr>",
                            "<tr><td>KHARISMA KARYA KARTIKA, PT.</td><td>VL0181</td></tr>",
                            "<tr><td>KIAT ANANDA</td><td>VL0082</td></tr>",
                            "<tr><td>KIM RUSLI</td><td>VL0159</td></tr>",
                            "<tr><td>KINGSUN FOODS CO, LTD</td><td>VI0174</td></tr>",
                            "<tr><td>KOBE BOGA UTAMA, PT.</td><td>VL0155</td></tr>",
                            "<tr><td>KPC KILCOY PASTORAL COMPANY</td><td>VI0178</td></tr>",
                            "<tr><td>KPC KILCOY PASTORAL COMPANY - AUD</td><td>VI0181</td></tr>",
                            "<tr><td>Kreasi Bintang Stainless</td><td>VO0039</td></tr>",
                            "<tr><td>KREASI GALATAMA. PT</td><td>VL0160</td></tr>",
                            "<tr><td>KUHNE + HEITZ</td><td>VI0050</td></tr>",
                            "<tr><td>LAM KEE FISHERIES PTE LTD</td><td>VI0157</td></tr>",
                            "<tr><td>LAMB WESTON INC</td><td>VI0052</td></tr>",
                            "<tr><td>LAMB WESTON nl</td><td>VI0053</td></tr>",
                            "<tr><td>LAMB WESTON NL (EUR)</td><td>VI0197</td></tr>",
                            "<tr><td>LANGREY INTERNATIONAL PTY LTD</td><td>VI0054</td></tr>",
                            "<tr><td>L'ANNE KANE INT'L</td><td>VI0055</td></tr>",
                            "<tr><td>LASALLEFOOD INDONESIA</td><td>VL0217</td></tr>",
                            "<tr><td>LAUTAN LUAS TBK, PT.</td><td>VL0251</td></tr>",
                            "<tr><td>LEONG HIN FOODS PTE LTD</td><td>VI0056</td></tr>",
                            "<tr><td>LEPRINO FOODS DAIRY PRODUCTS COMPANY</td><td>VI0121</td></tr>",
                            "<tr><td>Libra Emas Permata, PT</td><td>VO0046</td></tr>",
                            "<tr><td>LOCAL</td><td>VL0083</td></tr>",
                            "<tr><td>LOGECO ASIA PTE LTD</td><td>VI0057</td></tr>",
                            "<tr><td>LUAX INTERNATIONAL, LLC</td><td>VI0123</td></tr>",
                            "<tr><td>LUCKY FROZEN SDN.BHD.</td><td>VI0058</td></tr>",
                            "<tr><td>LUMBUNG ARTHA INDONESIA, PT</td><td>VL0232</td></tr>",
                            "<tr><td>LUTOSA SA</td><td>VI0153</td></tr>",
                            "<tr><td>MACROSENTRA NIAGABOGA, PT.</td><td>VL0193</td></tr>",
                            "<tr><td>MADURASA UNGGULAN NUSANTARA, PT</td><td>VL0223</td></tr>",
                            "<tr><td>MAKASSAR KULINA UTAMA, PT</td><td>VG0001</td></tr>",
                            "<tr><td>MARINEHARVEST SINGAPORE</td><td>VI0059</td></tr>",
                            "<tr><td>MARKAINDO SELARAS, PT</td><td>VL0269</td></tr>",
                            "<tr><td>MASTER MAKMUR LESTARI, PT.</td><td>VL0146</td></tr>",
                            "<tr><td>MATHIAS MEAT AUST.PTY LTD</td><td>VI0060</td></tr>",
                            "<tr><td>MATHIAS MEAT NZ. LTD</td><td>VI0061</td></tr>",
                            "<tr><td>MAXFOS PRIMA, PT</td><td>VL0274</td></tr>",
                            "<tr><td>MAYURA</td><td>VI0130</td></tr>",
                            "<tr><td>MCDELICA FOOD INDONESIA, PT.</td><td>VL0266</td></tr>",
                            "<tr><td>MEAT SHOP</td><td>VI0062</td></tr>",
                            "<tr><td>MEIDI-YA SINGAPORE CO (PTE) LTD</td><td>VI0063</td></tr>",
                            "<tr><td>MENTARI LAJU JAYA USAHA, PT.</td><td>VL0281</td></tr>",
                            "<tr><td>MENTARI SINAR MITRA ALAM, PT.</td><td>VL0282</td></tr>",
                            "<tr><td>META JAYA. PT</td><td>VL0084</td></tr>",
                            "<tr><td>METAFOODS,  LLC</td><td>VI0064</td></tr>",
                            "<tr><td>MIDAMAR CORPORATION</td><td>VI0065</td></tr>",
                            "<tr><td>MIDFIELD COMMODITIES PTY LTD</td><td>VI0147</td></tr>",
                            "<tr><td>MIDFIELD MEAT INT'L  PTY LTD</td><td>VI0066</td></tr>",
                            "<tr><td>MINERVA FOODS ASIA PTY LTD</td><td>VI0145</td></tr>",
                            "<tr><td>MIRAE CO., LTD</td><td>VI0128</td></tr>",
                            "<tr><td>MIRASCO</td><td>VI0194</td></tr>",
                            "<tr><td>MIRE INDO UTAMA, PT.</td><td>VL0248</td></tr>",
                            "<tr><td>MISC BP BUDI</td><td>VL0291</td></tr>",
                            "<tr><td>MISC BP RIDWAN</td><td>VL0292</td></tr>",
                            "<tr><td>MORNING STAR FISHERIES</td><td>VI0067</td></tr>",
                            "<tr><td>MOSS,CV</td><td>VO0052</td></tr>",
                            "<tr><td>MOWI SINGAPORE PTE LTD</td><td>VI0198</td></tr>",
                            "<tr><td>MS. PRABOWO</td><td>VL0085</td></tr>",
                            "<tr><td>MULTI ELEXINDO INDAH,PT</td><td>VO0053</td></tr>",
                            "<tr><td>Multi Flashindo Karisma</td><td>VO0063</td></tr>",
                            "<tr><td>MULTI KHARISMA SOLUSINDO</td><td>VO0032</td></tr>",
                            "<tr><td>MULTIRASA NUSANTARA</td><td>VL0086</td></tr>",
                            "<tr><td>MULWARRA EXPORT PTY LTD</td><td>VI0068</td></tr>",
                            "<tr><td>MULWARRA EXPORT PTY LTD (AUD)</td><td>VI0124</td></tr>",
                            "<tr><td>MUTIARA SEAFOOD, CV</td><td>VL0087</td></tr>",
                            "<tr><td>NADIRA PUTRI PRATAMA, CV.</td><td>VL0230</td></tr>",
                            "<tr><td>NAR TRADING</td><td>VI0183</td></tr>",
                            "<tr><td>NATURALLY AUSTRALIAN MEAT &amp; GAME PTY LTD</td><td>VI0129</td></tr>",
                            "<tr><td>NEW HOPE POULTRY BUSINESS INDONESIA, PT.</td><td>VL0233</td></tr>",
                            "<tr><td>NH FOODS AUSTRALIA PTY LTD</td><td>VI0069</td></tr>",
                            "<tr><td>NH FOODS SINGAPORE PTE. LTD.</td><td>VI0137</td></tr>",
                            "<tr><td>NIAGA SARANA ABADI. PT</td><td>VL0088</td></tr>",
                            "<tr><td>NIPPON MEAT PACKERS AUSTRALIA</td><td>VI0070</td></tr>",
                            "<tr><td>NIPPON MEAT PACKERS SINGAPORE Pte Ltd</td><td>VI0071</td></tr>",
                            "<tr><td>NISHIAWA BEEF LTD.</td><td>VI0186</td></tr>",
                            "<tr><td>NORDLAKS OPPDRETT AS</td><td>VI0119</td></tr>",
                            "<tr><td>NORDMILCH  AG</td><td>VI0072</td></tr>",
                            "<tr><td>NPC SANSENG PTE. LTD.</td><td>VI0156</td></tr>",
                            "<tr><td>OBE ORGANIC</td><td>VI0175</td></tr>",
                            "<tr><td>OCEAN SUPREME AS</td><td>VI0073</td></tr>",
                            "<tr><td>OLEIFICIO SALVADORI S.R.L</td><td>VI0161</td></tr>",
                            "<tr><td>OPTIMUM PRINTER &amp; PART</td><td>VO0027</td></tr>",
                            "<tr><td>PAGODASAKTI PRIMA REFRIGERASI, PT</td><td>VO0048</td></tr>",
                            "<tr><td>PALEMBANG KULINA UTAMA, PT</td><td>VL0289</td></tr>",
                            "<tr><td>PALMETTO FOOD SERVICE, LLC</td><td>VI0074</td></tr>",
                            "<tr><td>PANCA PUTRA SOLUSINDO ,PT</td><td>VO0065</td></tr>",
                            "<tr><td>PANCAGUNA</td><td>VL0089</td></tr>",
                            "<tr><td>PANDAWA EXPRESS</td><td>VL0090</td></tr>",
                            "<tr><td>PANGAN LESTARI, PT.</td><td>VL0091</td></tr>",
                            "<tr><td>PANGAN MULIA SEJAHTERA (PMS), PT</td><td>VL0280</td></tr>",
                            "<tr><td>PARKER INTERNATIONAL</td><td>VI0075</td></tr>",
                            "<tr><td>PASAR TANI INDOGUNA, CV</td><td>VL0260</td></tr>",
                            "<tr><td>PD. ALWAN JUNIOR BEEF</td><td>VL0205</td></tr>",
                            "<tr><td>PENDAWA CIPTA SAKTI,PT</td><td>VO0058</td></tr>",
                            "<tr><td>PERMATA CEMERLANG ABADI, PT.</td><td>VL0156</td></tr>",
                            "<tr><td>PERUSAHAAN PERDAGANGAN INDONESIA (PERSERO), PT</td><td>VL0218</td></tr>",
                            "<tr><td>PESBASA, S.A.</td><td>VI0141</td></tr>",
                            "<tr><td>PESCAVIAR, S.L.</td><td>VI0135</td></tr>",
                            "<tr><td>PILAR NIAGA MAS. PT</td><td>VL0092</td></tr>",
                            "<tr><td>PK Elang Perkasa</td><td>VO0045</td></tr>",
                            "<tr><td>PLAZA AUTO CIPTA, PT</td><td>VO0066</td></tr>",
                            "<tr><td>PREMIER EXPORTS PTY LTD</td><td>VI0076</td></tr>",
                            "<tr><td>PRIMA ADI MAKMUR, PT</td><td>VL0214</td></tr>",
                            "<tr><td>Prima Boga</td><td>VL0093</td></tr>",
                            "<tr><td>PRIMA COMPUTINDO</td><td>VO0010</td></tr>",
                            "<tr><td>PRIMA SENTOSA, PT.</td><td>VL0186</td></tr>",
                            "<tr><td>PRIMA TOP BOGA</td><td>VL0094</td></tr>",
                            "<tr><td>PS CILACAP PANGAN SEJAHTERA</td><td>VL0277</td></tr>",
                            "<tr><td>PT BERDIKARI (PERSERO) DIV PETERNAKAN</td><td>VL0243</td></tr>",
                            "<tr><td>PT DIGI INDONESIA</td><td>VL0275</td></tr>",
                            "<tr><td>PT ETERNA MAS CIPTA JAYAINDO</td><td>VO0035</td></tr>",
                            "<tr><td>PT GRAHA SEGARA</td><td>VO0004</td></tr>",
                            "<tr><td>PT INDOMOBIL PRIMA NIAGA</td><td>VO0033</td></tr>",
                            "<tr><td>PT IPC TERMINAL PETIKEMAS</td><td>VO0005</td></tr>",
                            "<tr><td>PT JAYA LOGAM EMAS</td><td>VO0037</td></tr>",
                            "<tr><td>PT MITRA CIPTA HARDI ELEKTRINDO</td><td>VO0034</td></tr>",
                            "<tr><td>PT MULTI TERMINAL INDONESIA</td><td>VO0006</td></tr>",
                            "<tr><td>PT NEW PRIOK CONTAINER TERMINAL ONE</td><td>VO0007</td></tr>",
                            "<tr><td>PT Pelangi Internasional</td><td>VO0025</td></tr>",
                            "<tr><td>PT PRATAMA KOMPUTINDO</td><td>VO0036</td></tr>",
                            "<tr><td>PT RIDAR ESINDO</td><td>VO0031</td></tr>",
                            "<tr><td>PT.  KARUNIA SEGAR UTAMA</td><td>VL0095</td></tr>",
                            "<tr><td>PT. AKUR PRATAMA / TOSERBA YOGYA</td><td>VL0215</td></tr>",
                            "<tr><td>PT. AMAN ABADI</td><td>VL0096</td></tr>",
                            "<tr><td>PT. ANEKA SARANA NIAGA</td><td>VL0097</td></tr>",
                            "<tr><td>PT. ANEKA SARANA NIAGA</td><td>VL0098</td></tr>",
                            "<tr><td>PT. ANZINDO GRATIA INT'L</td><td>VL0099</td></tr>",
                            "<tr><td>PT. ARTHA KARYA UTAMA / PT. KIKKOMAN INDONESIA</td><td>VL0173</td></tr>",
                            "<tr><td>PT. BERKAT CAHAYA SAKTI</td><td>VL0100</td></tr>",
                            "<tr><td>PT. BERKAT MITRA ABADI</td><td>VL0143</td></tr>",
                            "<tr><td>PT. BERKAT PRIMA MANDIRI</td><td>VL0142</td></tr>",
                            "<tr><td>PT. BUMI MAESTROAYU</td><td>VL0101</td></tr>",
                            "<tr><td>PT. BUMI MENARA INTERNUSA</td><td>VL0102</td></tr>",
                            "<tr><td>PT. CATUR CARAKA SEMPURNA</td><td>VI0077</td></tr>",
                            "<tr><td>PT. CITRA DIMENSI ARTHALI</td><td>VL0165</td></tr>",
                            "<tr><td>PT. CREDO PERKASA GROUP</td><td>VL0152</td></tr>",
                            "<tr><td>PT. DUA USAHA MANDIRI</td><td>VL0188</td></tr>",
                            "<tr><td>PT. DUABIRU NUSANTARA</td><td>VL0204</td></tr>",
                            "<tr><td>PT. FAJAR JAYA ANUGERAH</td><td>VL0145</td></tr>",
                            "<tr><td>PT. FITRAFOOD INTERNATIONAL</td><td>VL0185</td></tr>",
                            "<tr><td>PT. FITRAOOD INTERNATIONALF</td><td>VL0166</td></tr>",
                            "<tr><td>PT. FOODINDO DWIVESTAMAS</td><td>VL0103</td></tr>",
                            "<tr><td>PT. GADING FOOD (BOSCO</td><td>VL0104</td></tr>",
                            "<tr><td>PT. GADING FOOD (BOSCO)</td><td>VL0105</td></tr>",
                            "<tr><td>PT. GEOSADI MAPROTEC</td><td>VO0009</td></tr>",
                            "<tr><td>PT. INDO MANDIRI SEJAHTERA</td><td>VL0106</td></tr>",
                            "<tr><td>PT. INDOMAGURO TUNAS UNGGUL</td><td>VL0107</td></tr>",
                            "<tr><td>PT. KEWPIE  INDONESIA</td><td>VL0108</td></tr>",
                            "<tr><td>PT. KING FOOD</td><td>VL0148</td></tr>",
                            "<tr><td>PT. MASTER COOK</td><td>VI0078</td></tr>",
                            "<tr><td>PT. MASUYA GRAHA TRIKENCANA</td><td>VL0109</td></tr>",
                            "<tr><td>PT. MITRA KILAU PERKASA</td><td>VL0221</td></tr>",
                            "<tr><td>PT. MULTI SARANA PAKANINDO</td><td>VL0157</td></tr>",
                            "<tr><td>PT. NUANSA GUNA UTAMA</td><td>VL0110</td></tr>",
                            "<tr><td>PT. NUSANTARA KATULISTIWA ABADI</td><td>VL0111</td></tr>",
                            "<tr><td>PT. PANEN LESTARI INTERNUSA (SOGO)</td><td>VL0112</td></tr>",
                            "<tr><td>PT. PUSEMA RAYA UTAMA</td><td>VL0150</td></tr>",
                            "<tr><td>PT. REZEKI INTI ARTHA</td><td>VL0163</td></tr>",
                            "<tr><td>PT. SASTRA NARA UTAMA</td><td>VL0191</td></tr>",
                            "<tr><td>PT. SINAR DAGING PERDANA</td><td>VL0144</td></tr>",
                            "<tr><td>PT. SINAR TERANG UTAMA</td><td>VL0113</td></tr>",
                            "<tr><td>PT. SUKSES INTERNATIONAL ANUGERAH PRATAMA</td><td>VL0229</td></tr>",
                            "<tr><td>PT. WAHANA CIPTA NIAGA</td><td>VL0114</td></tr>",
                            "<tr><td>PT. WINDUBLAMBANGAN SEJATI</td><td>VL0149</td></tr>",
                            "<tr><td>PT. ZENSHO INDONESIA</td><td>VL0283</td></tr>",
                            "<tr><td>PURINUSA EKA PERSADA</td><td>VL0268</td></tr>",
                            "<tr><td>PUTRA PERKASA BEEF, CV.</td><td>VL0200</td></tr>",
                            "<tr><td>PUTRA PRIMA MANDIRI. CV</td><td>VL0115</td></tr>",
                            "<tr><td>Q System</td><td>VO0055</td></tr>",
                            "<tr><td>Q-EXPORT INT'L LTD</td><td>VI0079</td></tr>",
                            "<tr><td>QINGDAO HARTHN-RITUNE CORP LTD</td><td>VI0080</td></tr>",
                            "<tr><td>RALPHS MEAT COMPANY PTY LTD</td><td>VI0081</td></tr>",
                            "<tr><td>RANCH MARKET</td><td>VL0116</td></tr>",
                            "<tr><td>RAON CORPORATION CO.,LTD.</td><td>VI0158</td></tr>",
                            "<tr><td>RENTOKIL INDONESIA,PT</td><td>VO0016</td></tr>",
                            "<tr><td>RICH INDONESIA, PT</td><td>VL0234</td></tr>",
                            "<tr><td>RICH PRODUCTS (SUZHOU) CO, LTD</td><td>VI0082</td></tr>",
                            "<tr><td>RICH PRODUCTS INDONESIA, PT.</td><td>VL0182</td></tr>",
                            "<tr><td>RIFKY BERKAH, UD</td><td>VL0235</td></tr>",
                            "<tr><td>RITA JAYA BEEF</td><td>VL0117</td></tr>",
                            "<tr><td>RIZKY JAYA ABADI. CV</td><td>VL0118</td></tr>",
                            "<tr><td>ROBERTO GALIANNI</td><td>VI0083</td></tr>",
                            "<tr><td>ROHAN TRADING COMPANY</td><td>VI0084</td></tr>",
                            "<tr><td>ROOTS AND BRANCHES</td><td>VI0085</td></tr>",
                            "<tr><td>Royal Sutan Agung, PT</td><td>VO0059</td></tr>",
                            "<tr><td>RUANGAN PENDINGIN INDONESIA . PT</td><td>VL0119</td></tr>",
                            "<tr><td>Rumah Mahardika Karsyah, PT</td><td>VO0040</td></tr>",
                            "<tr><td>S.M.AGRI &amp; FISHERIES. CO.,LTD</td><td>VI0160</td></tr>",
                            "<tr><td>SABAT SAMUDRA</td><td>VL0212</td></tr>",
                            "<tr><td>SALMON GRAFIKA</td><td>VO0012</td></tr>",
                            "<tr><td>SALMONES BLUMAR MAGALLANES SpA</td><td>VI0184</td></tr>",
                            "<tr><td>SALSA</td><td>VL0120</td></tr>",
                            "<tr><td>SAMEX AUSTRALIAN MEAT CO PTY LTD</td><td>VI0086</td></tr>",
                            "<tr><td>SAMLAY DHARMA MANDIRI, PT</td><td>VL0179</td></tr>",
                            "<tr><td>SAN MIGUEL PURE FOODS</td><td>VL0121</td></tr>",
                            "<tr><td>SANGER AUSTRALLIA PTY LTD (USD)</td><td>VI0087</td></tr>",
                            "<tr><td>SANKYO SAHABAT INDONESIA, PT</td><td>VO0051</td></tr>",
                            "<tr><td>SANTOSO MEAT ( BP. ACONG )</td><td>VL0122</td></tr>",
                            "<tr><td>SARANA INDOGUNA LESTARI. PT</td><td>VL0123</td></tr>",
                            "<tr><td>SARANA INTI PANGAN, PT.</td><td>VL0176</td></tr>",
                            "<tr><td>SARANAKULINA INTISEJAHTERA, PT</td><td>VL0124</td></tr>",
                            "<tr><td>SARI BURGER INDONESIA, PT</td><td>VL0242</td></tr>",
                            "<tr><td>SARI MURNI, PT</td><td>VL0125</td></tr>",
                            "<tr><td>SARITAMA FOOD PROCESSING. PT</td><td>VL0126</td></tr>",
                            "<tr><td>SCHEIDEGGER TRADING CO.INC.</td><td>VI0088</td></tr>",
                            "<tr><td>SCHNITS FROZEN FOODS INTERNATIONAL</td><td>VL0270</td></tr>",
                            "<tr><td>SEA EAGLE GROUP AS</td><td>VI0089</td></tr>",
                            "<tr><td>SEABORN AS</td><td>VI0142</td></tr>",
                            "<tr><td>SEGAR BARU ABADI, PT.</td><td>VL0178</td></tr>",
                            "<tr><td>Sejahtera Sumberbaru Trada</td><td>VO0062</td></tr>",
                            "<tr><td>SEKAR BUMI TBK, PT</td><td>VL0206</td></tr>",
                            "<tr><td>SEMARANG KULINA UTAMA</td><td>VL0272</td></tr>",
                            "<tr><td>SEMESTA JAYA SENTOSA, PT</td><td>VL0127</td></tr>",
                            "<tr><td>SENTRA PROTEIN PRIMA. CV</td><td>VL0128</td></tr>",
                            "<tr><td>SETIAJAYA KEMASINDO MADYA, PT</td><td>VL0265</td></tr>",
                            "<tr><td>SHARON BAKERY/ PT. MULTI STAR RUKUN ABADI</td><td>VL0183</td></tr>",
                            "<tr><td>SIE MEE LING</td><td>VL0168</td></tr>",
                            "<tr><td>SNORRE FOOD PTE. LTD</td><td>VI0190</td></tr>",
                            "<tr><td>Snow Village Indonesia, PT</td><td>VO0054</td></tr>",
                            "<tr><td>SONNAMERA PTE LTD</td><td>VI0091</td></tr>",
                            "<tr><td>SPEEDY PRINTING</td><td>VL0254</td></tr>",
                            "<tr><td>SPEEDY PRINTING.CV</td><td>VO0020</td></tr>",
                            "<tr><td>STANBROKE  BEEF PTY LTD</td><td>VI0092</td></tr>",
                            "<tr><td>STELLA FOODS AUSTRALIA PTY LTD</td><td>VI0144</td></tr>",
                            "<tr><td>STOCKYARD BEEF PTY LTD</td><td>VI0176</td></tr>",
                            "<tr><td>SUBUR SARANA INDAH, PT</td><td>VL0129</td></tr>",
                            "<tr><td>SUKSES GRAHATIKA. PT</td><td>VL0130</td></tr>",
                            "<tr><td>SUKSES MAKMUR, CV.</td><td>VL0245</td></tr>",
                            "<tr><td>SUMBER BIRU LAUT, UD</td><td>VL0208</td></tr>",
                            "<tr><td>SUMBER GIZI UTAMA, PT</td><td>VL0131</td></tr>",
                            "<tr><td>SUMBER REZEKI INTERNASIONAL</td><td>VL0271</td></tr>",
                            "<tr><td>SUMBER TIRTA HAKIKI, PT.</td><td>VL0216</td></tr>",
                            "<tr><td>SUMBERPRIMA ANUGRAH ABADI. PT</td><td>VL0132</td></tr>",
                            "<tr><td>SUPER LABEL</td><td>VO0018</td></tr>",
                            "<tr><td>SUPERVALUE INTERNATIONAL</td><td>VI0093</td></tr>",
                            "<tr><td>SURE GOOD FOODS LTD</td><td>VI0173</td></tr>",
                            "<tr><td>SURI NUSANTARA JAYA, PT</td><td>VL0174</td></tr>",
                            "<tr><td>SURYA CEMERLANG ABADI. CV</td><td>VL0133</td></tr>",
                            "<tr><td>SURYA SUKSES MANDIRI, PT</td><td>VL0252</td></tr>",
                            "<tr><td>SWIFT &amp; COMPANY US</td><td>VI0094</td></tr>",
                            "<tr><td>SWIFT AND COMPANY TRADE GROUP</td><td>VI0095</td></tr>",
                            "<tr><td>SWIFT AND COMPANY TRADE GROUP</td><td>VI0151</td></tr>",
                            "<tr><td>T &amp; T GOURMET CUISINE PTE LTD</td><td>VI0096</td></tr>",
                            "<tr><td>T AND R PASTORAL PTY</td><td>VI0097</td></tr>",
                            "<tr><td>TASTY BITE EATABLES LTD</td><td>VI0167</td></tr>",
                            "<tr><td>TAT HUI FOODS PTE LTD</td><td>VI0118</td></tr>",
                            "<tr><td>TAYLOR PRESTON LTD</td><td>VI0098</td></tr>",
                            "<tr><td>TEYS AUSTRALIA</td><td>VI0099</td></tr>",
                            "<tr><td>THE 1872 CLIPPER TEA CO PTE LTD</td><td>VI0100</td></tr>",
                            "<tr><td>THE FOODHALL BELLEZZA</td><td>VL0175</td></tr>",
                            "<tr><td>THE FOODHALL GOURMET PI</td><td>VL0134</td></tr>",
                            "<tr><td>THOMAS FOODS INT'L</td><td>VI0101</td></tr>",
                            "<tr><td>THONG SIEK</td><td>VI0102</td></tr>",
                            "<tr><td>TOBA SURIMI INDUSTRIES, PT</td><td>VL0135</td></tr>",
                            "<tr><td>TOMEX DANMARK A/S</td><td>VI0103</td></tr>",
                            "<tr><td>TPK KOJA</td><td>VO0026</td></tr>",
                            "<tr><td>TRIANTAMA INDO PRATAMA. PT</td><td>VL0136</td></tr>",
                            "<tr><td>TRIE PUTRA MANDIRI, CV</td><td>VL0240</td></tr>",
                            "<tr><td>TRIMURNI PANGAN PRIMA, PT</td><td>VL0147</td></tr>",
                            "<tr><td>TRITUNGGAL JAYA, CV</td><td>VL0196</td></tr>",
                            "<tr><td>TRP COMMODITIES PTY LTD</td><td>VI0104</td></tr>",
                            "<tr><td>TWIN PEAKS JAPAN CO.,LTD.</td><td>VI0159</td></tr>",
                            "<tr><td>TYSON FRESH MEATS, INC</td><td>VI0105</td></tr>",
                            "<tr><td>UD JAYA ABADI</td><td>VL0137</td></tr>",
                            "<tr><td>UD. SUMBER BIRU LAUT</td><td>VL0209</td></tr>",
                            "<tr><td>UD. SUMBER BIRU LAUT</td><td>VL0210</td></tr>",
                            "<tr><td>USAHA CITRA BAHARI, PT</td><td>VL0138</td></tr>",
                            "<tr><td>VATAMA FOODINDO MAKMUR, PT.</td><td>VL0226</td></tr>",
                            "<tr><td>VIYON CO LTD</td><td>VI0189</td></tr>",
                            "<tr><td>W.A. MEAT EXPORT PTY.LTD (AUD)</td><td>VI0127</td></tr>",
                            "<tr><td>W.A. MEAT EXPORTS  Pty Ltd</td><td>VI0106</td></tr>",
                            "<tr><td>WAMMCO INTERNATIONAL</td><td>VI0107</td></tr>",
                            "<tr><td>WARMOLL FOODS PTY LTD (AUD)</td><td>VI0168</td></tr>",
                            "<tr><td>WARMOLL FOODS PTY LTD (JACK'S CREEK)</td><td>VI0006</td></tr>",
                            "<tr><td>WARUNG BEGOK INDONESIA, PT</td><td>VL0228</td></tr>",
                            "<tr><td>WARUNG TEKKO</td><td>VL0139</td></tr>",
                            "<tr><td>WEST COAST PLAZA</td><td>VI0108</td></tr>",
                            "<tr><td>WESTMEATS  (EXPORT) PTY LTD</td><td>VI0109</td></tr>",
                            "<tr><td>WHITE CLOUD SOUTH EAST ASIA PTE LTD</td><td>VI0110</td></tr>",
                            "<tr><td>WHOLESOME HARVEST PTE LTD</td><td>VI0111</td></tr>",
                            "<tr><td>WOODWARD FOODS AUSTRALIA PTY. LTD.</td><td>VI0163</td></tr>",
                            "<tr><td>WUHAN ZHONGMIN BEE FARM CO LTD</td><td>VI0117</td></tr>",
                            "<tr><td>XIAMEN JOOEVER IMPORT AND EXPORT CO., LTD</td><td>VI0150</td></tr>",
                            "<tr><td>Yanto Electric Panel</td><td>VO0064</td></tr>",
                            "<tr><td>YOUNG POONG CO., LTD.</td><td>VI0133</td></tr>",
                            "<tr><td>YU FISH PRIVATE LTD -AUD</td><td>VI0120</td></tr>",
                            "<tr><td>YU FISH PRIVATE LTD-USD</td><td>VI0112</td></tr>",
                            "</table>"
                        ]
                    }
                }
            ],
            "execution_count": 3
        }
    ]
}